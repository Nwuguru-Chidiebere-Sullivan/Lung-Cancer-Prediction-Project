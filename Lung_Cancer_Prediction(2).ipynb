{
 "cells": [
  {
   "cell_type": "markdown",
   "id": "2baa1e5e",
   "metadata": {},
   "source": [
    "# Lung Cancer Prediction Using Voting Classifier"
   ]
  },
  {
   "cell_type": "markdown",
   "id": "59f17d9c",
   "metadata": {},
   "source": [
    "**AIM:** \n",
    "\n",
    "This project is aimed at analysing the factors that can contribute to the increase in the risk of getting lung cancer, predicting whether or not a patient is at the risk of lung cancer through various classification algorithms, and thereafter, employing an Ensembler, precisely, Voting Classifier to combine these classification algorithms and output a better result."
   ]
  },
  {
   "cell_type": "markdown",
   "id": "020c86d7",
   "metadata": {},
   "source": [
    "![title](Pictures\\lung_cancer.jpg)"
   ]
  },
  {
   "cell_type": "markdown",
   "id": "689654f6",
   "metadata": {},
   "source": [
    "**By: Nwuguru Chidiebere Sullivan**"
   ]
  },
  {
   "cell_type": "markdown",
   "id": "852cb65e",
   "metadata": {},
   "source": []
  },
  {
   "cell_type": "markdown",
   "id": "305d53c2",
   "metadata": {},
   "source": [
    "## Importing Packages"
   ]
  },
  {
   "cell_type": "code",
   "execution_count": 1,
   "id": "720678c8",
   "metadata": {},
   "outputs": [],
   "source": [
    "import pandas as pd\n",
    "import matplotlib.pyplot as plt\n",
    "%matplotlib inline\n",
    "import seaborn as sns\n",
    "plt.rcParams['figure.figsize'] = (12, 12)\n",
    "from sklearn.preprocessing import LabelEncoder\n",
    "from sklearn.preprocessing import StandardScaler\n",
    "from sklearn.model_selection import train_test_split, GridSearchCV\n",
    "from sklearn.metrics import accuracy_score\n",
    "from sklearn.linear_model import LogisticRegression\n",
    "from sklearn.tree import DecisionTreeClassifier\n",
    "from sklearn.neighbors import KNeighborsClassifier as KNN\n",
    "from sklearn.ensemble import VotingClassifier\n",
    "from imblearn.under_sampling import RandomUnderSampler \n",
    "import warnings\n",
    "warnings.filterwarnings('ignore')"
   ]
  },
  {
   "cell_type": "code",
   "execution_count": null,
   "id": "73166cbd",
   "metadata": {},
   "outputs": [],
   "source": []
  },
  {
   "cell_type": "markdown",
   "id": "7f30944a",
   "metadata": {},
   "source": [
    "## Load and view the dataset"
   ]
  },
  {
   "cell_type": "code",
   "execution_count": 2,
   "id": "e3881562",
   "metadata": {},
   "outputs": [
    {
     "data": {
      "text/html": [
       "<div>\n",
       "<style scoped>\n",
       "    .dataframe tbody tr th:only-of-type {\n",
       "        vertical-align: middle;\n",
       "    }\n",
       "\n",
       "    .dataframe tbody tr th {\n",
       "        vertical-align: top;\n",
       "    }\n",
       "\n",
       "    .dataframe thead th {\n",
       "        text-align: right;\n",
       "    }\n",
       "</style>\n",
       "<table border=\"1\" class=\"dataframe\">\n",
       "  <thead>\n",
       "    <tr style=\"text-align: right;\">\n",
       "      <th></th>\n",
       "      <th>GENDER</th>\n",
       "      <th>AGE</th>\n",
       "      <th>SMOKING</th>\n",
       "      <th>YELLOW_FINGERS</th>\n",
       "      <th>ANXIETY</th>\n",
       "      <th>PEER_PRESSURE</th>\n",
       "      <th>CHRONIC DISEASE</th>\n",
       "      <th>FATIGUE</th>\n",
       "      <th>ALLERGY</th>\n",
       "      <th>WHEEZING</th>\n",
       "      <th>ALCOHOL CONSUMING</th>\n",
       "      <th>COUGHING</th>\n",
       "      <th>SHORTNESS OF BREATH</th>\n",
       "      <th>SWALLOWING DIFFICULTY</th>\n",
       "      <th>CHEST PAIN</th>\n",
       "      <th>LUNG_CANCER</th>\n",
       "    </tr>\n",
       "  </thead>\n",
       "  <tbody>\n",
       "    <tr>\n",
       "      <th>0</th>\n",
       "      <td>M</td>\n",
       "      <td>69</td>\n",
       "      <td>1</td>\n",
       "      <td>2</td>\n",
       "      <td>2</td>\n",
       "      <td>1</td>\n",
       "      <td>1</td>\n",
       "      <td>2</td>\n",
       "      <td>1</td>\n",
       "      <td>2</td>\n",
       "      <td>2</td>\n",
       "      <td>2</td>\n",
       "      <td>2</td>\n",
       "      <td>2</td>\n",
       "      <td>2</td>\n",
       "      <td>YES</td>\n",
       "    </tr>\n",
       "    <tr>\n",
       "      <th>1</th>\n",
       "      <td>M</td>\n",
       "      <td>74</td>\n",
       "      <td>2</td>\n",
       "      <td>1</td>\n",
       "      <td>1</td>\n",
       "      <td>1</td>\n",
       "      <td>2</td>\n",
       "      <td>2</td>\n",
       "      <td>2</td>\n",
       "      <td>1</td>\n",
       "      <td>1</td>\n",
       "      <td>1</td>\n",
       "      <td>2</td>\n",
       "      <td>2</td>\n",
       "      <td>2</td>\n",
       "      <td>YES</td>\n",
       "    </tr>\n",
       "    <tr>\n",
       "      <th>2</th>\n",
       "      <td>F</td>\n",
       "      <td>59</td>\n",
       "      <td>1</td>\n",
       "      <td>1</td>\n",
       "      <td>1</td>\n",
       "      <td>2</td>\n",
       "      <td>1</td>\n",
       "      <td>2</td>\n",
       "      <td>1</td>\n",
       "      <td>2</td>\n",
       "      <td>1</td>\n",
       "      <td>2</td>\n",
       "      <td>2</td>\n",
       "      <td>1</td>\n",
       "      <td>2</td>\n",
       "      <td>NO</td>\n",
       "    </tr>\n",
       "    <tr>\n",
       "      <th>3</th>\n",
       "      <td>M</td>\n",
       "      <td>63</td>\n",
       "      <td>2</td>\n",
       "      <td>2</td>\n",
       "      <td>2</td>\n",
       "      <td>1</td>\n",
       "      <td>1</td>\n",
       "      <td>1</td>\n",
       "      <td>1</td>\n",
       "      <td>1</td>\n",
       "      <td>2</td>\n",
       "      <td>1</td>\n",
       "      <td>1</td>\n",
       "      <td>2</td>\n",
       "      <td>2</td>\n",
       "      <td>NO</td>\n",
       "    </tr>\n",
       "    <tr>\n",
       "      <th>4</th>\n",
       "      <td>F</td>\n",
       "      <td>63</td>\n",
       "      <td>1</td>\n",
       "      <td>2</td>\n",
       "      <td>1</td>\n",
       "      <td>1</td>\n",
       "      <td>1</td>\n",
       "      <td>1</td>\n",
       "      <td>1</td>\n",
       "      <td>2</td>\n",
       "      <td>1</td>\n",
       "      <td>2</td>\n",
       "      <td>2</td>\n",
       "      <td>1</td>\n",
       "      <td>1</td>\n",
       "      <td>NO</td>\n",
       "    </tr>\n",
       "  </tbody>\n",
       "</table>\n",
       "</div>"
      ],
      "text/plain": [
       "  GENDER  AGE  SMOKING  YELLOW_FINGERS  ANXIETY  PEER_PRESSURE  \\\n",
       "0      M   69        1               2        2              1   \n",
       "1      M   74        2               1        1              1   \n",
       "2      F   59        1               1        1              2   \n",
       "3      M   63        2               2        2              1   \n",
       "4      F   63        1               2        1              1   \n",
       "\n",
       "   CHRONIC DISEASE  FATIGUE   ALLERGY   WHEEZING  ALCOHOL CONSUMING  COUGHING  \\\n",
       "0                1         2         1         2                  2         2   \n",
       "1                2         2         2         1                  1         1   \n",
       "2                1         2         1         2                  1         2   \n",
       "3                1         1         1         1                  2         1   \n",
       "4                1         1         1         2                  1         2   \n",
       "\n",
       "   SHORTNESS OF BREATH  SWALLOWING DIFFICULTY  CHEST PAIN LUNG_CANCER  \n",
       "0                    2                      2           2         YES  \n",
       "1                    2                      2           2         YES  \n",
       "2                    2                      1           2          NO  \n",
       "3                    1                      2           2          NO  \n",
       "4                    2                      1           1          NO  "
      ]
     },
     "execution_count": 2,
     "metadata": {},
     "output_type": "execute_result"
    }
   ],
   "source": [
    "lc_df = pd.read_csv('Desktop/CSV Files/lung_cancer.csv')\n",
    "lc_df.head()"
   ]
  },
  {
   "cell_type": "code",
   "execution_count": null,
   "id": "455000b9",
   "metadata": {},
   "outputs": [],
   "source": []
  },
  {
   "cell_type": "code",
   "execution_count": 3,
   "id": "72dc71f1",
   "metadata": {},
   "outputs": [
    {
     "data": {
      "text/html": [
       "<div>\n",
       "<style scoped>\n",
       "    .dataframe tbody tr th:only-of-type {\n",
       "        vertical-align: middle;\n",
       "    }\n",
       "\n",
       "    .dataframe tbody tr th {\n",
       "        vertical-align: top;\n",
       "    }\n",
       "\n",
       "    .dataframe thead th {\n",
       "        text-align: right;\n",
       "    }\n",
       "</style>\n",
       "<table border=\"1\" class=\"dataframe\">\n",
       "  <thead>\n",
       "    <tr style=\"text-align: right;\">\n",
       "      <th></th>\n",
       "      <th>GENDER</th>\n",
       "      <th>AGE</th>\n",
       "      <th>SMOKING</th>\n",
       "      <th>YELLOW_FINGERS</th>\n",
       "      <th>ANXIETY</th>\n",
       "      <th>PEER_PRESSURE</th>\n",
       "      <th>CHRONIC DISEASE</th>\n",
       "      <th>FATIGUE</th>\n",
       "      <th>ALLERGY</th>\n",
       "      <th>WHEEZING</th>\n",
       "      <th>ALCOHOL CONSUMING</th>\n",
       "      <th>COUGHING</th>\n",
       "      <th>SHORTNESS OF BREATH</th>\n",
       "      <th>SWALLOWING DIFFICULTY</th>\n",
       "      <th>CHEST PAIN</th>\n",
       "      <th>LUNG_CANCER</th>\n",
       "    </tr>\n",
       "  </thead>\n",
       "  <tbody>\n",
       "    <tr>\n",
       "      <th>304</th>\n",
       "      <td>F</td>\n",
       "      <td>56</td>\n",
       "      <td>1</td>\n",
       "      <td>1</td>\n",
       "      <td>1</td>\n",
       "      <td>2</td>\n",
       "      <td>2</td>\n",
       "      <td>2</td>\n",
       "      <td>1</td>\n",
       "      <td>1</td>\n",
       "      <td>2</td>\n",
       "      <td>2</td>\n",
       "      <td>2</td>\n",
       "      <td>2</td>\n",
       "      <td>1</td>\n",
       "      <td>YES</td>\n",
       "    </tr>\n",
       "    <tr>\n",
       "      <th>305</th>\n",
       "      <td>M</td>\n",
       "      <td>70</td>\n",
       "      <td>2</td>\n",
       "      <td>1</td>\n",
       "      <td>1</td>\n",
       "      <td>1</td>\n",
       "      <td>1</td>\n",
       "      <td>2</td>\n",
       "      <td>2</td>\n",
       "      <td>2</td>\n",
       "      <td>2</td>\n",
       "      <td>2</td>\n",
       "      <td>2</td>\n",
       "      <td>1</td>\n",
       "      <td>2</td>\n",
       "      <td>YES</td>\n",
       "    </tr>\n",
       "    <tr>\n",
       "      <th>306</th>\n",
       "      <td>M</td>\n",
       "      <td>58</td>\n",
       "      <td>2</td>\n",
       "      <td>1</td>\n",
       "      <td>1</td>\n",
       "      <td>1</td>\n",
       "      <td>1</td>\n",
       "      <td>1</td>\n",
       "      <td>2</td>\n",
       "      <td>2</td>\n",
       "      <td>2</td>\n",
       "      <td>2</td>\n",
       "      <td>1</td>\n",
       "      <td>1</td>\n",
       "      <td>2</td>\n",
       "      <td>YES</td>\n",
       "    </tr>\n",
       "    <tr>\n",
       "      <th>307</th>\n",
       "      <td>M</td>\n",
       "      <td>67</td>\n",
       "      <td>2</td>\n",
       "      <td>1</td>\n",
       "      <td>2</td>\n",
       "      <td>1</td>\n",
       "      <td>1</td>\n",
       "      <td>2</td>\n",
       "      <td>2</td>\n",
       "      <td>1</td>\n",
       "      <td>2</td>\n",
       "      <td>2</td>\n",
       "      <td>2</td>\n",
       "      <td>1</td>\n",
       "      <td>2</td>\n",
       "      <td>YES</td>\n",
       "    </tr>\n",
       "    <tr>\n",
       "      <th>308</th>\n",
       "      <td>M</td>\n",
       "      <td>62</td>\n",
       "      <td>1</td>\n",
       "      <td>1</td>\n",
       "      <td>1</td>\n",
       "      <td>2</td>\n",
       "      <td>1</td>\n",
       "      <td>2</td>\n",
       "      <td>2</td>\n",
       "      <td>2</td>\n",
       "      <td>2</td>\n",
       "      <td>1</td>\n",
       "      <td>1</td>\n",
       "      <td>2</td>\n",
       "      <td>1</td>\n",
       "      <td>YES</td>\n",
       "    </tr>\n",
       "  </tbody>\n",
       "</table>\n",
       "</div>"
      ],
      "text/plain": [
       "    GENDER  AGE  SMOKING  YELLOW_FINGERS  ANXIETY  PEER_PRESSURE  \\\n",
       "304      F   56        1               1        1              2   \n",
       "305      M   70        2               1        1              1   \n",
       "306      M   58        2               1        1              1   \n",
       "307      M   67        2               1        2              1   \n",
       "308      M   62        1               1        1              2   \n",
       "\n",
       "     CHRONIC DISEASE  FATIGUE   ALLERGY   WHEEZING  ALCOHOL CONSUMING  \\\n",
       "304                2         2         1         1                  2   \n",
       "305                1         2         2         2                  2   \n",
       "306                1         1         2         2                  2   \n",
       "307                1         2         2         1                  2   \n",
       "308                1         2         2         2                  2   \n",
       "\n",
       "     COUGHING  SHORTNESS OF BREATH  SWALLOWING DIFFICULTY  CHEST PAIN  \\\n",
       "304         2                    2                      2           1   \n",
       "305         2                    2                      1           2   \n",
       "306         2                    1                      1           2   \n",
       "307         2                    2                      1           2   \n",
       "308         1                    1                      2           1   \n",
       "\n",
       "    LUNG_CANCER  \n",
       "304         YES  \n",
       "305         YES  \n",
       "306         YES  \n",
       "307         YES  \n",
       "308         YES  "
      ]
     },
     "execution_count": 3,
     "metadata": {},
     "output_type": "execute_result"
    }
   ],
   "source": [
    "lc_df.tail()"
   ]
  },
  {
   "cell_type": "code",
   "execution_count": null,
   "id": "cc93e822",
   "metadata": {},
   "outputs": [],
   "source": []
  },
  {
   "cell_type": "markdown",
   "id": "c4c17dff",
   "metadata": {},
   "source": [
    "## Understanding Our Dataset"
   ]
  },
  {
   "cell_type": "code",
   "execution_count": 4,
   "id": "df56679f",
   "metadata": {},
   "outputs": [
    {
     "data": {
      "text/plain": [
       "(309, 16)"
      ]
     },
     "execution_count": 4,
     "metadata": {},
     "output_type": "execute_result"
    }
   ],
   "source": [
    "#view the shape of the dataset\n",
    "lc_df.shape"
   ]
  },
  {
   "cell_type": "code",
   "execution_count": null,
   "id": "06311d2e",
   "metadata": {},
   "outputs": [],
   "source": []
  },
  {
   "cell_type": "code",
   "execution_count": 5,
   "id": "79d668ab",
   "metadata": {},
   "outputs": [
    {
     "name": "stdout",
     "output_type": "stream",
     "text": [
      "<class 'pandas.core.frame.DataFrame'>\n",
      "RangeIndex: 309 entries, 0 to 308\n",
      "Data columns (total 16 columns):\n",
      " #   Column                 Non-Null Count  Dtype \n",
      "---  ------                 --------------  ----- \n",
      " 0   GENDER                 309 non-null    object\n",
      " 1   AGE                    309 non-null    int64 \n",
      " 2   SMOKING                309 non-null    int64 \n",
      " 3   YELLOW_FINGERS         309 non-null    int64 \n",
      " 4   ANXIETY                309 non-null    int64 \n",
      " 5   PEER_PRESSURE          309 non-null    int64 \n",
      " 6   CHRONIC DISEASE        309 non-null    int64 \n",
      " 7   FATIGUE                309 non-null    int64 \n",
      " 8   ALLERGY                309 non-null    int64 \n",
      " 9   WHEEZING               309 non-null    int64 \n",
      " 10  ALCOHOL CONSUMING      309 non-null    int64 \n",
      " 11  COUGHING               309 non-null    int64 \n",
      " 12  SHORTNESS OF BREATH    309 non-null    int64 \n",
      " 13  SWALLOWING DIFFICULTY  309 non-null    int64 \n",
      " 14  CHEST PAIN             309 non-null    int64 \n",
      " 15  LUNG_CANCER            309 non-null    object\n",
      "dtypes: int64(14), object(2)\n",
      "memory usage: 38.8+ KB\n"
     ]
    }
   ],
   "source": [
    "#get the general info about the dataset\n",
    "lc_df.info()"
   ]
  },
  {
   "cell_type": "code",
   "execution_count": null,
   "id": "a9d0d01e",
   "metadata": {},
   "outputs": [],
   "source": []
  },
  {
   "cell_type": "code",
   "execution_count": 6,
   "id": "c0e3d752",
   "metadata": {},
   "outputs": [
    {
     "data": {
      "text/html": [
       "<div>\n",
       "<style scoped>\n",
       "    .dataframe tbody tr th:only-of-type {\n",
       "        vertical-align: middle;\n",
       "    }\n",
       "\n",
       "    .dataframe tbody tr th {\n",
       "        vertical-align: top;\n",
       "    }\n",
       "\n",
       "    .dataframe thead th {\n",
       "        text-align: right;\n",
       "    }\n",
       "</style>\n",
       "<table border=\"1\" class=\"dataframe\">\n",
       "  <thead>\n",
       "    <tr style=\"text-align: right;\">\n",
       "      <th></th>\n",
       "      <th>AGE</th>\n",
       "      <th>SMOKING</th>\n",
       "      <th>YELLOW_FINGERS</th>\n",
       "      <th>ANXIETY</th>\n",
       "      <th>PEER_PRESSURE</th>\n",
       "      <th>CHRONIC DISEASE</th>\n",
       "      <th>FATIGUE</th>\n",
       "      <th>ALLERGY</th>\n",
       "      <th>WHEEZING</th>\n",
       "      <th>ALCOHOL CONSUMING</th>\n",
       "      <th>COUGHING</th>\n",
       "      <th>SHORTNESS OF BREATH</th>\n",
       "      <th>SWALLOWING DIFFICULTY</th>\n",
       "      <th>CHEST PAIN</th>\n",
       "    </tr>\n",
       "  </thead>\n",
       "  <tbody>\n",
       "    <tr>\n",
       "      <th>count</th>\n",
       "      <td>309.000000</td>\n",
       "      <td>309.000000</td>\n",
       "      <td>309.000000</td>\n",
       "      <td>309.000000</td>\n",
       "      <td>309.000000</td>\n",
       "      <td>309.000000</td>\n",
       "      <td>309.000000</td>\n",
       "      <td>309.000000</td>\n",
       "      <td>309.000000</td>\n",
       "      <td>309.000000</td>\n",
       "      <td>309.000000</td>\n",
       "      <td>309.000000</td>\n",
       "      <td>309.000000</td>\n",
       "      <td>309.000000</td>\n",
       "    </tr>\n",
       "    <tr>\n",
       "      <th>mean</th>\n",
       "      <td>62.673139</td>\n",
       "      <td>1.563107</td>\n",
       "      <td>1.569579</td>\n",
       "      <td>1.498382</td>\n",
       "      <td>1.501618</td>\n",
       "      <td>1.504854</td>\n",
       "      <td>1.673139</td>\n",
       "      <td>1.556634</td>\n",
       "      <td>1.556634</td>\n",
       "      <td>1.556634</td>\n",
       "      <td>1.579288</td>\n",
       "      <td>1.640777</td>\n",
       "      <td>1.469256</td>\n",
       "      <td>1.556634</td>\n",
       "    </tr>\n",
       "    <tr>\n",
       "      <th>std</th>\n",
       "      <td>8.210301</td>\n",
       "      <td>0.496806</td>\n",
       "      <td>0.495938</td>\n",
       "      <td>0.500808</td>\n",
       "      <td>0.500808</td>\n",
       "      <td>0.500787</td>\n",
       "      <td>0.469827</td>\n",
       "      <td>0.497588</td>\n",
       "      <td>0.497588</td>\n",
       "      <td>0.497588</td>\n",
       "      <td>0.494474</td>\n",
       "      <td>0.480551</td>\n",
       "      <td>0.499863</td>\n",
       "      <td>0.497588</td>\n",
       "    </tr>\n",
       "    <tr>\n",
       "      <th>min</th>\n",
       "      <td>21.000000</td>\n",
       "      <td>1.000000</td>\n",
       "      <td>1.000000</td>\n",
       "      <td>1.000000</td>\n",
       "      <td>1.000000</td>\n",
       "      <td>1.000000</td>\n",
       "      <td>1.000000</td>\n",
       "      <td>1.000000</td>\n",
       "      <td>1.000000</td>\n",
       "      <td>1.000000</td>\n",
       "      <td>1.000000</td>\n",
       "      <td>1.000000</td>\n",
       "      <td>1.000000</td>\n",
       "      <td>1.000000</td>\n",
       "    </tr>\n",
       "    <tr>\n",
       "      <th>25%</th>\n",
       "      <td>57.000000</td>\n",
       "      <td>1.000000</td>\n",
       "      <td>1.000000</td>\n",
       "      <td>1.000000</td>\n",
       "      <td>1.000000</td>\n",
       "      <td>1.000000</td>\n",
       "      <td>1.000000</td>\n",
       "      <td>1.000000</td>\n",
       "      <td>1.000000</td>\n",
       "      <td>1.000000</td>\n",
       "      <td>1.000000</td>\n",
       "      <td>1.000000</td>\n",
       "      <td>1.000000</td>\n",
       "      <td>1.000000</td>\n",
       "    </tr>\n",
       "    <tr>\n",
       "      <th>50%</th>\n",
       "      <td>62.000000</td>\n",
       "      <td>2.000000</td>\n",
       "      <td>2.000000</td>\n",
       "      <td>1.000000</td>\n",
       "      <td>2.000000</td>\n",
       "      <td>2.000000</td>\n",
       "      <td>2.000000</td>\n",
       "      <td>2.000000</td>\n",
       "      <td>2.000000</td>\n",
       "      <td>2.000000</td>\n",
       "      <td>2.000000</td>\n",
       "      <td>2.000000</td>\n",
       "      <td>1.000000</td>\n",
       "      <td>2.000000</td>\n",
       "    </tr>\n",
       "    <tr>\n",
       "      <th>75%</th>\n",
       "      <td>69.000000</td>\n",
       "      <td>2.000000</td>\n",
       "      <td>2.000000</td>\n",
       "      <td>2.000000</td>\n",
       "      <td>2.000000</td>\n",
       "      <td>2.000000</td>\n",
       "      <td>2.000000</td>\n",
       "      <td>2.000000</td>\n",
       "      <td>2.000000</td>\n",
       "      <td>2.000000</td>\n",
       "      <td>2.000000</td>\n",
       "      <td>2.000000</td>\n",
       "      <td>2.000000</td>\n",
       "      <td>2.000000</td>\n",
       "    </tr>\n",
       "    <tr>\n",
       "      <th>max</th>\n",
       "      <td>87.000000</td>\n",
       "      <td>2.000000</td>\n",
       "      <td>2.000000</td>\n",
       "      <td>2.000000</td>\n",
       "      <td>2.000000</td>\n",
       "      <td>2.000000</td>\n",
       "      <td>2.000000</td>\n",
       "      <td>2.000000</td>\n",
       "      <td>2.000000</td>\n",
       "      <td>2.000000</td>\n",
       "      <td>2.000000</td>\n",
       "      <td>2.000000</td>\n",
       "      <td>2.000000</td>\n",
       "      <td>2.000000</td>\n",
       "    </tr>\n",
       "  </tbody>\n",
       "</table>\n",
       "</div>"
      ],
      "text/plain": [
       "              AGE     SMOKING  YELLOW_FINGERS     ANXIETY  PEER_PRESSURE  \\\n",
       "count  309.000000  309.000000      309.000000  309.000000     309.000000   \n",
       "mean    62.673139    1.563107        1.569579    1.498382       1.501618   \n",
       "std      8.210301    0.496806        0.495938    0.500808       0.500808   \n",
       "min     21.000000    1.000000        1.000000    1.000000       1.000000   \n",
       "25%     57.000000    1.000000        1.000000    1.000000       1.000000   \n",
       "50%     62.000000    2.000000        2.000000    1.000000       2.000000   \n",
       "75%     69.000000    2.000000        2.000000    2.000000       2.000000   \n",
       "max     87.000000    2.000000        2.000000    2.000000       2.000000   \n",
       "\n",
       "       CHRONIC DISEASE    FATIGUE     ALLERGY     WHEEZING  ALCOHOL CONSUMING  \\\n",
       "count       309.000000  309.000000  309.000000  309.000000         309.000000   \n",
       "mean          1.504854    1.673139    1.556634    1.556634           1.556634   \n",
       "std           0.500787    0.469827    0.497588    0.497588           0.497588   \n",
       "min           1.000000    1.000000    1.000000    1.000000           1.000000   \n",
       "25%           1.000000    1.000000    1.000000    1.000000           1.000000   \n",
       "50%           2.000000    2.000000    2.000000    2.000000           2.000000   \n",
       "75%           2.000000    2.000000    2.000000    2.000000           2.000000   \n",
       "max           2.000000    2.000000    2.000000    2.000000           2.000000   \n",
       "\n",
       "         COUGHING  SHORTNESS OF BREATH  SWALLOWING DIFFICULTY  CHEST PAIN  \n",
       "count  309.000000           309.000000             309.000000  309.000000  \n",
       "mean     1.579288             1.640777               1.469256    1.556634  \n",
       "std      0.494474             0.480551               0.499863    0.497588  \n",
       "min      1.000000             1.000000               1.000000    1.000000  \n",
       "25%      1.000000             1.000000               1.000000    1.000000  \n",
       "50%      2.000000             2.000000               1.000000    2.000000  \n",
       "75%      2.000000             2.000000               2.000000    2.000000  \n",
       "max      2.000000             2.000000               2.000000    2.000000  "
      ]
     },
     "execution_count": 6,
     "metadata": {},
     "output_type": "execute_result"
    }
   ],
   "source": [
    "#get the descriptive statistics of the numerical variables\n",
    "lc_df.describe()"
   ]
  },
  {
   "cell_type": "code",
   "execution_count": 7,
   "id": "56304290",
   "metadata": {
    "scrolled": true
   },
   "outputs": [
    {
     "data": {
      "text/html": [
       "<div>\n",
       "<style scoped>\n",
       "    .dataframe tbody tr th:only-of-type {\n",
       "        vertical-align: middle;\n",
       "    }\n",
       "\n",
       "    .dataframe tbody tr th {\n",
       "        vertical-align: top;\n",
       "    }\n",
       "\n",
       "    .dataframe thead th {\n",
       "        text-align: right;\n",
       "    }\n",
       "</style>\n",
       "<table border=\"1\" class=\"dataframe\">\n",
       "  <thead>\n",
       "    <tr style=\"text-align: right;\">\n",
       "      <th></th>\n",
       "      <th>GENDER</th>\n",
       "      <th>LUNG_CANCER</th>\n",
       "    </tr>\n",
       "  </thead>\n",
       "  <tbody>\n",
       "    <tr>\n",
       "      <th>count</th>\n",
       "      <td>309</td>\n",
       "      <td>309</td>\n",
       "    </tr>\n",
       "    <tr>\n",
       "      <th>unique</th>\n",
       "      <td>2</td>\n",
       "      <td>2</td>\n",
       "    </tr>\n",
       "    <tr>\n",
       "      <th>top</th>\n",
       "      <td>M</td>\n",
       "      <td>YES</td>\n",
       "    </tr>\n",
       "    <tr>\n",
       "      <th>freq</th>\n",
       "      <td>162</td>\n",
       "      <td>270</td>\n",
       "    </tr>\n",
       "  </tbody>\n",
       "</table>\n",
       "</div>"
      ],
      "text/plain": [
       "       GENDER LUNG_CANCER\n",
       "count     309         309\n",
       "unique      2           2\n",
       "top         M         YES\n",
       "freq      162         270"
      ]
     },
     "execution_count": 7,
     "metadata": {},
     "output_type": "execute_result"
    }
   ],
   "source": [
    "#get the descriptive statistics of the object variables\n",
    "round(lc_df.describe(exclude=['int64']),2)"
   ]
  },
  {
   "cell_type": "code",
   "execution_count": null,
   "id": "5771d02e",
   "metadata": {},
   "outputs": [],
   "source": []
  },
  {
   "cell_type": "code",
   "execution_count": 8,
   "id": "4d6566a6",
   "metadata": {},
   "outputs": [
    {
     "data": {
      "text/plain": [
       "Index(['GENDER', 'AGE', 'SMOKING', 'YELLOW_FINGERS', 'ANXIETY',\n",
       "       'PEER_PRESSURE', 'CHRONIC DISEASE', 'FATIGUE ', 'ALLERGY ', 'WHEEZING',\n",
       "       'ALCOHOL CONSUMING', 'COUGHING', 'SHORTNESS OF BREATH',\n",
       "       'SWALLOWING DIFFICULTY', 'CHEST PAIN', 'LUNG_CANCER'],\n",
       "      dtype='object')"
      ]
     },
     "execution_count": 8,
     "metadata": {},
     "output_type": "execute_result"
    }
   ],
   "source": [
    "#get the names of all the columns\n",
    "lc_df.columns"
   ]
  },
  {
   "cell_type": "code",
   "execution_count": 9,
   "id": "1907d59a",
   "metadata": {
    "scrolled": true
   },
   "outputs": [
    {
     "name": "stdout",
     "output_type": "stream",
     "text": [
      "Unique_values for GENDER:['M' 'F']\n",
      "Unique_values for AGE:[69 74 59 63 75 52 51 68 53 61 72 60 58 48 57 44 64 21 65 55 62 56 67 77\n",
      " 70 54 49 73 47 71 66 76 78 81 79 38 39 87 46]\n",
      "Unique_values for SMOKING:[1 2]\n",
      "Unique_values for YELLOW_FINGERS:[2 1]\n",
      "Unique_values for ANXIETY:[2 1]\n",
      "Unique_values for PEER_PRESSURE:[1 2]\n",
      "Unique_values for CHRONIC DISEASE:[1 2]\n",
      "Unique_values for FATIGUE :[2 1]\n",
      "Unique_values for ALLERGY :[1 2]\n",
      "Unique_values for WHEEZING:[2 1]\n",
      "Unique_values for ALCOHOL CONSUMING:[2 1]\n",
      "Unique_values for COUGHING:[2 1]\n",
      "Unique_values for SHORTNESS OF BREATH:[2 1]\n",
      "Unique_values for SWALLOWING DIFFICULTY:[2 1]\n",
      "Unique_values for CHEST PAIN:[2 1]\n",
      "Unique_values for LUNG_CANCER:['YES' 'NO']\n"
     ]
    }
   ],
   "source": [
    "#check for unique values in all the columns\n",
    "columns = ['GENDER', 'AGE', 'SMOKING', 'YELLOW_FINGERS', 'ANXIETY',\n",
    "       'PEER_PRESSURE', 'CHRONIC DISEASE', 'FATIGUE ', 'ALLERGY ', 'WHEEZING',\n",
    "       'ALCOHOL CONSUMING', 'COUGHING', 'SHORTNESS OF BREATH',\n",
    "       'SWALLOWING DIFFICULTY', 'CHEST PAIN', 'LUNG_CANCER']\n",
    "unique_values = []\n",
    "\n",
    "for column in columns:\n",
    "    unique_values = lc_df[column].unique()\n",
    "    print(f\"Unique_values for {column}:{unique_values}\")"
   ]
  },
  {
   "cell_type": "code",
   "execution_count": 10,
   "id": "45aaecb8",
   "metadata": {},
   "outputs": [],
   "source": [
    "#let's replace 2,1 with 0,1 in the numeric columns for easier understanding\n",
    "columns = ['SMOKING', 'YELLOW_FINGERS', 'ANXIETY',\n",
    "       'PEER_PRESSURE', 'CHRONIC DISEASE', 'FATIGUE ', 'ALLERGY ', 'WHEEZING',\n",
    "       'ALCOHOL CONSUMING', 'COUGHING', 'SHORTNESS OF BREATH',\n",
    "       'SWALLOWING DIFFICULTY', 'CHEST PAIN']\n",
    "for col in columns:\n",
    "    lc_df[col] = lc_df[col].replace([1,2], [0,1])"
   ]
  },
  {
   "cell_type": "code",
   "execution_count": 11,
   "id": "406c52e4",
   "metadata": {},
   "outputs": [
    {
     "data": {
      "text/html": [
       "<div>\n",
       "<style scoped>\n",
       "    .dataframe tbody tr th:only-of-type {\n",
       "        vertical-align: middle;\n",
       "    }\n",
       "\n",
       "    .dataframe tbody tr th {\n",
       "        vertical-align: top;\n",
       "    }\n",
       "\n",
       "    .dataframe thead th {\n",
       "        text-align: right;\n",
       "    }\n",
       "</style>\n",
       "<table border=\"1\" class=\"dataframe\">\n",
       "  <thead>\n",
       "    <tr style=\"text-align: right;\">\n",
       "      <th></th>\n",
       "      <th>GENDER</th>\n",
       "      <th>AGE</th>\n",
       "      <th>SMOKING</th>\n",
       "      <th>YELLOW_FINGERS</th>\n",
       "      <th>ANXIETY</th>\n",
       "      <th>PEER_PRESSURE</th>\n",
       "      <th>CHRONIC DISEASE</th>\n",
       "      <th>FATIGUE</th>\n",
       "      <th>ALLERGY</th>\n",
       "      <th>WHEEZING</th>\n",
       "      <th>ALCOHOL CONSUMING</th>\n",
       "      <th>COUGHING</th>\n",
       "      <th>SHORTNESS OF BREATH</th>\n",
       "      <th>SWALLOWING DIFFICULTY</th>\n",
       "      <th>CHEST PAIN</th>\n",
       "      <th>LUNG_CANCER</th>\n",
       "    </tr>\n",
       "  </thead>\n",
       "  <tbody>\n",
       "    <tr>\n",
       "      <th>0</th>\n",
       "      <td>M</td>\n",
       "      <td>69</td>\n",
       "      <td>0</td>\n",
       "      <td>1</td>\n",
       "      <td>1</td>\n",
       "      <td>0</td>\n",
       "      <td>0</td>\n",
       "      <td>1</td>\n",
       "      <td>0</td>\n",
       "      <td>1</td>\n",
       "      <td>1</td>\n",
       "      <td>1</td>\n",
       "      <td>1</td>\n",
       "      <td>1</td>\n",
       "      <td>1</td>\n",
       "      <td>YES</td>\n",
       "    </tr>\n",
       "    <tr>\n",
       "      <th>1</th>\n",
       "      <td>M</td>\n",
       "      <td>74</td>\n",
       "      <td>1</td>\n",
       "      <td>0</td>\n",
       "      <td>0</td>\n",
       "      <td>0</td>\n",
       "      <td>1</td>\n",
       "      <td>1</td>\n",
       "      <td>1</td>\n",
       "      <td>0</td>\n",
       "      <td>0</td>\n",
       "      <td>0</td>\n",
       "      <td>1</td>\n",
       "      <td>1</td>\n",
       "      <td>1</td>\n",
       "      <td>YES</td>\n",
       "    </tr>\n",
       "    <tr>\n",
       "      <th>2</th>\n",
       "      <td>F</td>\n",
       "      <td>59</td>\n",
       "      <td>0</td>\n",
       "      <td>0</td>\n",
       "      <td>0</td>\n",
       "      <td>1</td>\n",
       "      <td>0</td>\n",
       "      <td>1</td>\n",
       "      <td>0</td>\n",
       "      <td>1</td>\n",
       "      <td>0</td>\n",
       "      <td>1</td>\n",
       "      <td>1</td>\n",
       "      <td>0</td>\n",
       "      <td>1</td>\n",
       "      <td>NO</td>\n",
       "    </tr>\n",
       "    <tr>\n",
       "      <th>3</th>\n",
       "      <td>M</td>\n",
       "      <td>63</td>\n",
       "      <td>1</td>\n",
       "      <td>1</td>\n",
       "      <td>1</td>\n",
       "      <td>0</td>\n",
       "      <td>0</td>\n",
       "      <td>0</td>\n",
       "      <td>0</td>\n",
       "      <td>0</td>\n",
       "      <td>1</td>\n",
       "      <td>0</td>\n",
       "      <td>0</td>\n",
       "      <td>1</td>\n",
       "      <td>1</td>\n",
       "      <td>NO</td>\n",
       "    </tr>\n",
       "    <tr>\n",
       "      <th>4</th>\n",
       "      <td>F</td>\n",
       "      <td>63</td>\n",
       "      <td>0</td>\n",
       "      <td>1</td>\n",
       "      <td>0</td>\n",
       "      <td>0</td>\n",
       "      <td>0</td>\n",
       "      <td>0</td>\n",
       "      <td>0</td>\n",
       "      <td>1</td>\n",
       "      <td>0</td>\n",
       "      <td>1</td>\n",
       "      <td>1</td>\n",
       "      <td>0</td>\n",
       "      <td>0</td>\n",
       "      <td>NO</td>\n",
       "    </tr>\n",
       "  </tbody>\n",
       "</table>\n",
       "</div>"
      ],
      "text/plain": [
       "  GENDER  AGE  SMOKING  YELLOW_FINGERS  ANXIETY  PEER_PRESSURE  \\\n",
       "0      M   69        0               1        1              0   \n",
       "1      M   74        1               0        0              0   \n",
       "2      F   59        0               0        0              1   \n",
       "3      M   63        1               1        1              0   \n",
       "4      F   63        0               1        0              0   \n",
       "\n",
       "   CHRONIC DISEASE  FATIGUE   ALLERGY   WHEEZING  ALCOHOL CONSUMING  COUGHING  \\\n",
       "0                0         1         0         1                  1         1   \n",
       "1                1         1         1         0                  0         0   \n",
       "2                0         1         0         1                  0         1   \n",
       "3                0         0         0         0                  1         0   \n",
       "4                0         0         0         1                  0         1   \n",
       "\n",
       "   SHORTNESS OF BREATH  SWALLOWING DIFFICULTY  CHEST PAIN LUNG_CANCER  \n",
       "0                    1                      1           1         YES  \n",
       "1                    1                      1           1         YES  \n",
       "2                    1                      0           1          NO  \n",
       "3                    0                      1           1          NO  \n",
       "4                    1                      0           0          NO  "
      ]
     },
     "execution_count": 11,
     "metadata": {},
     "output_type": "execute_result"
    }
   ],
   "source": [
    "lc_df.head()"
   ]
  },
  {
   "cell_type": "markdown",
   "id": "d6ae8b24",
   "metadata": {},
   "source": [
    "## Data Wrangling"
   ]
  },
  {
   "cell_type": "code",
   "execution_count": null,
   "id": "85176ef9",
   "metadata": {},
   "outputs": [],
   "source": []
  },
  {
   "cell_type": "markdown",
   "id": "7552f197",
   "metadata": {},
   "source": [
    "### check for missing values:"
   ]
  },
  {
   "cell_type": "code",
   "execution_count": 12,
   "id": "74ebdef3",
   "metadata": {
    "scrolled": true
   },
   "outputs": [
    {
     "data": {
      "text/plain": [
       "GENDER                   0\n",
       "AGE                      0\n",
       "SMOKING                  0\n",
       "YELLOW_FINGERS           0\n",
       "ANXIETY                  0\n",
       "PEER_PRESSURE            0\n",
       "CHRONIC DISEASE          0\n",
       "FATIGUE                  0\n",
       "ALLERGY                  0\n",
       "WHEEZING                 0\n",
       "ALCOHOL CONSUMING        0\n",
       "COUGHING                 0\n",
       "SHORTNESS OF BREATH      0\n",
       "SWALLOWING DIFFICULTY    0\n",
       "CHEST PAIN               0\n",
       "LUNG_CANCER              0\n",
       "dtype: int64"
      ]
     },
     "execution_count": 12,
     "metadata": {},
     "output_type": "execute_result"
    }
   ],
   "source": [
    "lc_df.isnull().sum()"
   ]
  },
  {
   "cell_type": "markdown",
   "id": "a55838e5",
   "metadata": {},
   "source": [
    "**Observation: There is no missing value**"
   ]
  },
  {
   "cell_type": "code",
   "execution_count": null,
   "id": "ca16408f",
   "metadata": {},
   "outputs": [],
   "source": []
  },
  {
   "cell_type": "markdown",
   "id": "64b7430b",
   "metadata": {},
   "source": [
    "### check for duplicates:"
   ]
  },
  {
   "cell_type": "code",
   "execution_count": 13,
   "id": "9d42d810",
   "metadata": {},
   "outputs": [
    {
     "data": {
      "text/plain": [
       "33"
      ]
     },
     "execution_count": 13,
     "metadata": {},
     "output_type": "execute_result"
    }
   ],
   "source": [
    "lc_df.duplicated().sum()"
   ]
  },
  {
   "cell_type": "markdown",
   "id": "3f5407fe",
   "metadata": {},
   "source": [
    "**Observation: There are 33 duplicates**"
   ]
  },
  {
   "cell_type": "code",
   "execution_count": 14,
   "id": "77645ace",
   "metadata": {},
   "outputs": [
    {
     "data": {
      "text/plain": [
       "0"
      ]
     },
     "execution_count": 14,
     "metadata": {},
     "output_type": "execute_result"
    }
   ],
   "source": [
    "#drop the duplicates\n",
    "lc_df = lc_df.drop_duplicates()\n",
    "lc_df.duplicated().sum()"
   ]
  },
  {
   "cell_type": "markdown",
   "id": "114ae2b5",
   "metadata": {},
   "source": [
    "**Observation: We've now taken care of the duplicates**"
   ]
  },
  {
   "cell_type": "code",
   "execution_count": null,
   "id": "d1ea17a3",
   "metadata": {},
   "outputs": [],
   "source": []
  },
  {
   "cell_type": "markdown",
   "id": "985329e1",
   "metadata": {},
   "source": [
    "### check for correlation:"
   ]
  },
  {
   "cell_type": "code",
   "execution_count": 15,
   "id": "c07a8b57",
   "metadata": {},
   "outputs": [
    {
     "data": {
      "text/html": [
       "<div>\n",
       "<style scoped>\n",
       "    .dataframe tbody tr th:only-of-type {\n",
       "        vertical-align: middle;\n",
       "    }\n",
       "\n",
       "    .dataframe tbody tr th {\n",
       "        vertical-align: top;\n",
       "    }\n",
       "\n",
       "    .dataframe thead th {\n",
       "        text-align: right;\n",
       "    }\n",
       "</style>\n",
       "<table border=\"1\" class=\"dataframe\">\n",
       "  <thead>\n",
       "    <tr style=\"text-align: right;\">\n",
       "      <th></th>\n",
       "      <th>AGE</th>\n",
       "      <th>SMOKING</th>\n",
       "      <th>YELLOW_FINGERS</th>\n",
       "      <th>ANXIETY</th>\n",
       "      <th>PEER_PRESSURE</th>\n",
       "      <th>CHRONIC DISEASE</th>\n",
       "      <th>FATIGUE</th>\n",
       "      <th>ALLERGY</th>\n",
       "      <th>WHEEZING</th>\n",
       "      <th>ALCOHOL CONSUMING</th>\n",
       "      <th>COUGHING</th>\n",
       "      <th>SHORTNESS OF BREATH</th>\n",
       "      <th>SWALLOWING DIFFICULTY</th>\n",
       "      <th>CHEST PAIN</th>\n",
       "    </tr>\n",
       "  </thead>\n",
       "  <tbody>\n",
       "    <tr>\n",
       "      <th>AGE</th>\n",
       "      <td>1.000000</td>\n",
       "      <td>-0.073410</td>\n",
       "      <td>0.025773</td>\n",
       "      <td>0.050605</td>\n",
       "      <td>0.037848</td>\n",
       "      <td>-0.003431</td>\n",
       "      <td>0.021606</td>\n",
       "      <td>0.037139</td>\n",
       "      <td>0.052803</td>\n",
       "      <td>0.052049</td>\n",
       "      <td>0.168654</td>\n",
       "      <td>-0.009189</td>\n",
       "      <td>0.003199</td>\n",
       "      <td>-0.035806</td>\n",
       "    </tr>\n",
       "    <tr>\n",
       "      <th>SMOKING</th>\n",
       "      <td>-0.073410</td>\n",
       "      <td>1.000000</td>\n",
       "      <td>-0.020799</td>\n",
       "      <td>0.153389</td>\n",
       "      <td>-0.030364</td>\n",
       "      <td>-0.149415</td>\n",
       "      <td>-0.037803</td>\n",
       "      <td>-0.030179</td>\n",
       "      <td>-0.147081</td>\n",
       "      <td>-0.052771</td>\n",
       "      <td>-0.138553</td>\n",
       "      <td>0.051761</td>\n",
       "      <td>0.042152</td>\n",
       "      <td>0.106984</td>\n",
       "    </tr>\n",
       "    <tr>\n",
       "      <th>YELLOW_FINGERS</th>\n",
       "      <td>0.025773</td>\n",
       "      <td>-0.020799</td>\n",
       "      <td>1.000000</td>\n",
       "      <td>0.558344</td>\n",
       "      <td>0.313067</td>\n",
       "      <td>0.015316</td>\n",
       "      <td>-0.099644</td>\n",
       "      <td>-0.147130</td>\n",
       "      <td>-0.058756</td>\n",
       "      <td>-0.273643</td>\n",
       "      <td>0.020803</td>\n",
       "      <td>-0.109959</td>\n",
       "      <td>0.333349</td>\n",
       "      <td>-0.099169</td>\n",
       "    </tr>\n",
       "    <tr>\n",
       "      <th>ANXIETY</th>\n",
       "      <td>0.050605</td>\n",
       "      <td>0.153389</td>\n",
       "      <td>0.558344</td>\n",
       "      <td>1.000000</td>\n",
       "      <td>0.210278</td>\n",
       "      <td>-0.006938</td>\n",
       "      <td>-0.181474</td>\n",
       "      <td>-0.159451</td>\n",
       "      <td>-0.174009</td>\n",
       "      <td>-0.152228</td>\n",
       "      <td>-0.218843</td>\n",
       "      <td>-0.155678</td>\n",
       "      <td>0.478820</td>\n",
       "      <td>-0.123182</td>\n",
       "    </tr>\n",
       "    <tr>\n",
       "      <th>PEER_PRESSURE</th>\n",
       "      <td>0.037848</td>\n",
       "      <td>-0.030364</td>\n",
       "      <td>0.313067</td>\n",
       "      <td>0.210278</td>\n",
       "      <td>1.000000</td>\n",
       "      <td>0.042893</td>\n",
       "      <td>0.094661</td>\n",
       "      <td>-0.066887</td>\n",
       "      <td>-0.037769</td>\n",
       "      <td>-0.132603</td>\n",
       "      <td>-0.068224</td>\n",
       "      <td>-0.214115</td>\n",
       "      <td>0.327764</td>\n",
       "      <td>-0.074655</td>\n",
       "    </tr>\n",
       "    <tr>\n",
       "      <th>CHRONIC DISEASE</th>\n",
       "      <td>-0.003431</td>\n",
       "      <td>-0.149415</td>\n",
       "      <td>0.015316</td>\n",
       "      <td>-0.006938</td>\n",
       "      <td>0.042893</td>\n",
       "      <td>1.000000</td>\n",
       "      <td>-0.099411</td>\n",
       "      <td>0.134309</td>\n",
       "      <td>-0.040546</td>\n",
       "      <td>0.010144</td>\n",
       "      <td>-0.160813</td>\n",
       "      <td>-0.011760</td>\n",
       "      <td>0.068263</td>\n",
       "      <td>-0.048895</td>\n",
       "    </tr>\n",
       "    <tr>\n",
       "      <th>FATIGUE</th>\n",
       "      <td>0.021606</td>\n",
       "      <td>-0.037803</td>\n",
       "      <td>-0.099644</td>\n",
       "      <td>-0.181474</td>\n",
       "      <td>0.094661</td>\n",
       "      <td>-0.099411</td>\n",
       "      <td>1.000000</td>\n",
       "      <td>-0.001841</td>\n",
       "      <td>0.152151</td>\n",
       "      <td>-0.181573</td>\n",
       "      <td>0.148538</td>\n",
       "      <td>0.407027</td>\n",
       "      <td>-0.115727</td>\n",
       "      <td>0.013757</td>\n",
       "    </tr>\n",
       "    <tr>\n",
       "      <th>ALLERGY</th>\n",
       "      <td>0.037139</td>\n",
       "      <td>-0.030179</td>\n",
       "      <td>-0.147130</td>\n",
       "      <td>-0.159451</td>\n",
       "      <td>-0.066887</td>\n",
       "      <td>0.134309</td>\n",
       "      <td>-0.001841</td>\n",
       "      <td>1.000000</td>\n",
       "      <td>0.166517</td>\n",
       "      <td>0.378125</td>\n",
       "      <td>0.206367</td>\n",
       "      <td>-0.018030</td>\n",
       "      <td>-0.037581</td>\n",
       "      <td>0.245440</td>\n",
       "    </tr>\n",
       "    <tr>\n",
       "      <th>WHEEZING</th>\n",
       "      <td>0.052803</td>\n",
       "      <td>-0.147081</td>\n",
       "      <td>-0.058756</td>\n",
       "      <td>-0.174009</td>\n",
       "      <td>-0.037769</td>\n",
       "      <td>-0.040546</td>\n",
       "      <td>0.152151</td>\n",
       "      <td>0.166517</td>\n",
       "      <td>1.000000</td>\n",
       "      <td>0.261061</td>\n",
       "      <td>0.353657</td>\n",
       "      <td>0.042289</td>\n",
       "      <td>0.108304</td>\n",
       "      <td>0.142846</td>\n",
       "    </tr>\n",
       "    <tr>\n",
       "      <th>ALCOHOL CONSUMING</th>\n",
       "      <td>0.052049</td>\n",
       "      <td>-0.052771</td>\n",
       "      <td>-0.273643</td>\n",
       "      <td>-0.152228</td>\n",
       "      <td>-0.132603</td>\n",
       "      <td>0.010144</td>\n",
       "      <td>-0.181573</td>\n",
       "      <td>0.378125</td>\n",
       "      <td>0.261061</td>\n",
       "      <td>1.000000</td>\n",
       "      <td>0.198023</td>\n",
       "      <td>-0.163370</td>\n",
       "      <td>-0.000635</td>\n",
       "      <td>0.310767</td>\n",
       "    </tr>\n",
       "    <tr>\n",
       "      <th>COUGHING</th>\n",
       "      <td>0.168654</td>\n",
       "      <td>-0.138553</td>\n",
       "      <td>0.020803</td>\n",
       "      <td>-0.218843</td>\n",
       "      <td>-0.068224</td>\n",
       "      <td>-0.160813</td>\n",
       "      <td>0.148538</td>\n",
       "      <td>0.206367</td>\n",
       "      <td>0.353657</td>\n",
       "      <td>0.198023</td>\n",
       "      <td>1.000000</td>\n",
       "      <td>0.284968</td>\n",
       "      <td>-0.136885</td>\n",
       "      <td>0.077988</td>\n",
       "    </tr>\n",
       "    <tr>\n",
       "      <th>SHORTNESS OF BREATH</th>\n",
       "      <td>-0.009189</td>\n",
       "      <td>0.051761</td>\n",
       "      <td>-0.109959</td>\n",
       "      <td>-0.155678</td>\n",
       "      <td>-0.214115</td>\n",
       "      <td>-0.011760</td>\n",
       "      <td>0.407027</td>\n",
       "      <td>-0.018030</td>\n",
       "      <td>0.042289</td>\n",
       "      <td>-0.163370</td>\n",
       "      <td>0.284968</td>\n",
       "      <td>1.000000</td>\n",
       "      <td>-0.140307</td>\n",
       "      <td>0.044029</td>\n",
       "    </tr>\n",
       "    <tr>\n",
       "      <th>SWALLOWING DIFFICULTY</th>\n",
       "      <td>0.003199</td>\n",
       "      <td>0.042152</td>\n",
       "      <td>0.333349</td>\n",
       "      <td>0.478820</td>\n",
       "      <td>0.327764</td>\n",
       "      <td>0.068263</td>\n",
       "      <td>-0.115727</td>\n",
       "      <td>-0.037581</td>\n",
       "      <td>0.108304</td>\n",
       "      <td>-0.000635</td>\n",
       "      <td>-0.136885</td>\n",
       "      <td>-0.140307</td>\n",
       "      <td>1.000000</td>\n",
       "      <td>0.102674</td>\n",
       "    </tr>\n",
       "    <tr>\n",
       "      <th>CHEST PAIN</th>\n",
       "      <td>-0.035806</td>\n",
       "      <td>0.106984</td>\n",
       "      <td>-0.099169</td>\n",
       "      <td>-0.123182</td>\n",
       "      <td>-0.074655</td>\n",
       "      <td>-0.048895</td>\n",
       "      <td>0.013757</td>\n",
       "      <td>0.245440</td>\n",
       "      <td>0.142846</td>\n",
       "      <td>0.310767</td>\n",
       "      <td>0.077988</td>\n",
       "      <td>0.044029</td>\n",
       "      <td>0.102674</td>\n",
       "      <td>1.000000</td>\n",
       "    </tr>\n",
       "  </tbody>\n",
       "</table>\n",
       "</div>"
      ],
      "text/plain": [
       "                            AGE   SMOKING  YELLOW_FINGERS   ANXIETY  \\\n",
       "AGE                    1.000000 -0.073410        0.025773  0.050605   \n",
       "SMOKING               -0.073410  1.000000       -0.020799  0.153389   \n",
       "YELLOW_FINGERS         0.025773 -0.020799        1.000000  0.558344   \n",
       "ANXIETY                0.050605  0.153389        0.558344  1.000000   \n",
       "PEER_PRESSURE          0.037848 -0.030364        0.313067  0.210278   \n",
       "CHRONIC DISEASE       -0.003431 -0.149415        0.015316 -0.006938   \n",
       "FATIGUE                0.021606 -0.037803       -0.099644 -0.181474   \n",
       "ALLERGY                0.037139 -0.030179       -0.147130 -0.159451   \n",
       "WHEEZING               0.052803 -0.147081       -0.058756 -0.174009   \n",
       "ALCOHOL CONSUMING      0.052049 -0.052771       -0.273643 -0.152228   \n",
       "COUGHING               0.168654 -0.138553        0.020803 -0.218843   \n",
       "SHORTNESS OF BREATH   -0.009189  0.051761       -0.109959 -0.155678   \n",
       "SWALLOWING DIFFICULTY  0.003199  0.042152        0.333349  0.478820   \n",
       "CHEST PAIN            -0.035806  0.106984       -0.099169 -0.123182   \n",
       "\n",
       "                       PEER_PRESSURE  CHRONIC DISEASE  FATIGUE   ALLERGY   \\\n",
       "AGE                         0.037848        -0.003431  0.021606  0.037139   \n",
       "SMOKING                    -0.030364        -0.149415 -0.037803 -0.030179   \n",
       "YELLOW_FINGERS              0.313067         0.015316 -0.099644 -0.147130   \n",
       "ANXIETY                     0.210278        -0.006938 -0.181474 -0.159451   \n",
       "PEER_PRESSURE               1.000000         0.042893  0.094661 -0.066887   \n",
       "CHRONIC DISEASE             0.042893         1.000000 -0.099411  0.134309   \n",
       "FATIGUE                     0.094661        -0.099411  1.000000 -0.001841   \n",
       "ALLERGY                    -0.066887         0.134309 -0.001841  1.000000   \n",
       "WHEEZING                   -0.037769        -0.040546  0.152151  0.166517   \n",
       "ALCOHOL CONSUMING          -0.132603         0.010144 -0.181573  0.378125   \n",
       "COUGHING                   -0.068224        -0.160813  0.148538  0.206367   \n",
       "SHORTNESS OF BREATH        -0.214115        -0.011760  0.407027 -0.018030   \n",
       "SWALLOWING DIFFICULTY       0.327764         0.068263 -0.115727 -0.037581   \n",
       "CHEST PAIN                 -0.074655        -0.048895  0.013757  0.245440   \n",
       "\n",
       "                       WHEEZING  ALCOHOL CONSUMING  COUGHING  \\\n",
       "AGE                    0.052803           0.052049  0.168654   \n",
       "SMOKING               -0.147081          -0.052771 -0.138553   \n",
       "YELLOW_FINGERS        -0.058756          -0.273643  0.020803   \n",
       "ANXIETY               -0.174009          -0.152228 -0.218843   \n",
       "PEER_PRESSURE         -0.037769          -0.132603 -0.068224   \n",
       "CHRONIC DISEASE       -0.040546           0.010144 -0.160813   \n",
       "FATIGUE                0.152151          -0.181573  0.148538   \n",
       "ALLERGY                0.166517           0.378125  0.206367   \n",
       "WHEEZING               1.000000           0.261061  0.353657   \n",
       "ALCOHOL CONSUMING      0.261061           1.000000  0.198023   \n",
       "COUGHING               0.353657           0.198023  1.000000   \n",
       "SHORTNESS OF BREATH    0.042289          -0.163370  0.284968   \n",
       "SWALLOWING DIFFICULTY  0.108304          -0.000635 -0.136885   \n",
       "CHEST PAIN             0.142846           0.310767  0.077988   \n",
       "\n",
       "                       SHORTNESS OF BREATH  SWALLOWING DIFFICULTY  CHEST PAIN  \n",
       "AGE                              -0.009189               0.003199   -0.035806  \n",
       "SMOKING                           0.051761               0.042152    0.106984  \n",
       "YELLOW_FINGERS                   -0.109959               0.333349   -0.099169  \n",
       "ANXIETY                          -0.155678               0.478820   -0.123182  \n",
       "PEER_PRESSURE                    -0.214115               0.327764   -0.074655  \n",
       "CHRONIC DISEASE                  -0.011760               0.068263   -0.048895  \n",
       "FATIGUE                           0.407027              -0.115727    0.013757  \n",
       "ALLERGY                          -0.018030              -0.037581    0.245440  \n",
       "WHEEZING                          0.042289               0.108304    0.142846  \n",
       "ALCOHOL CONSUMING                -0.163370              -0.000635    0.310767  \n",
       "COUGHING                          0.284968              -0.136885    0.077988  \n",
       "SHORTNESS OF BREATH               1.000000              -0.140307    0.044029  \n",
       "SWALLOWING DIFFICULTY            -0.140307               1.000000    0.102674  \n",
       "CHEST PAIN                        0.044029               0.102674    1.000000  "
      ]
     },
     "execution_count": 15,
     "metadata": {},
     "output_type": "execute_result"
    }
   ],
   "source": [
    "correlation = lc_df.corr()\n",
    "correlation"
   ]
  },
  {
   "cell_type": "code",
   "execution_count": 16,
   "id": "f46eb938",
   "metadata": {},
   "outputs": [
    {
     "data": {
      "image/png": "[encoded data removed]",
      "text/plain": [
       "<Figure size 864x864 with 2 Axes>"
      ]
     },
     "metadata": {
      "needs_background": "light"
     },
     "output_type": "display_data"
    }
   ],
   "source": [
    "#visualize the correlation\n",
    "sns.heatmap(correlation, annot=True, cmap='Reds', linewidth=0.1)\n",
    "plt.show();"
   ]
  },
  {
   "cell_type": "markdown",
   "id": "33b1981b",
   "metadata": {},
   "source": [
    "**Observation: There are some level of correlation among few of the features, although, not strong enough to be considered**"
   ]
  },
  {
   "cell_type": "code",
   "execution_count": null,
   "id": "a94a3569",
   "metadata": {},
   "outputs": [],
   "source": []
  },
  {
   "cell_type": "markdown",
   "id": "13db678b",
   "metadata": {},
   "source": [
    "### let's check for outliers:"
   ]
  },
  {
   "cell_type": "markdown",
   "id": "a9e5a903",
   "metadata": {},
   "source": [
    "We will be checking for outliers across the age column since it is the only column with varying entries unlike the rest of the columns whose entries are mostly binary, i.e. they mainly consist of just two unique entries."
   ]
  },
  {
   "cell_type": "code",
   "execution_count": 29,
   "id": "e011de73",
   "metadata": {},
   "outputs": [
    {
     "data": {
      "image/png": "[encoded data removed]",
      "text/plain": [
       "<Figure size 12000x4000 with 1 Axes>"
      ]
     },
     "metadata": {},
     "output_type": "display_data"
    }
   ],
   "source": [
    "plt.figure(num=None, figsize=(15,5), dpi=800, facecolor='w', edgecolor='k')\n",
    "sns.boxplot(x='AGE', data=lc_df)\n",
    "plt.show;"
   ]
  },
  {
   "cell_type": "code",
   "execution_count": 45,
   "id": "98dc9c23",
   "metadata": {},
   "outputs": [
    {
     "data": {
      "text/plain": [
       "count    276.000000\n",
       "mean      62.909420\n",
       "std        8.379355\n",
       "min       21.000000\n",
       "25%       57.750000\n",
       "50%       62.500000\n",
       "75%       69.000000\n",
       "max       87.000000\n",
       "Name: AGE, dtype: float64"
      ]
     },
     "execution_count": 45,
     "metadata": {},
     "output_type": "execute_result"
    }
   ],
   "source": [
    "lc_df['AGE'].describe()"
   ]
  },
  {
   "cell_type": "markdown",
   "id": "2d6e7abd",
   "metadata": {},
   "source": [
    "**Observation: It's very possible to have patients of 21yrs and 87yrs so we will let the outliers be.**"
   ]
  },
  {
   "cell_type": "code",
   "execution_count": null,
   "id": "d862a9e5",
   "metadata": {},
   "outputs": [],
   "source": []
  },
  {
   "cell_type": "markdown",
   "id": "52c378e1",
   "metadata": {},
   "source": [
    "## Exploratory Data Analysis"
   ]
  },
  {
   "cell_type": "code",
   "execution_count": 46,
   "id": "c9b382fb",
   "metadata": {},
   "outputs": [
    {
     "data": {
      "image/png": "[encoded data removed]",
      "text/plain": [
       "<Figure size 360x360 with 1 Axes>"
      ]
     },
     "metadata": {
      "needs_background": "light"
     },
     "output_type": "display_data"
    }
   ],
   "source": [
    "#let's visualize the lung_cancer column\n",
    "sns.catplot(data=lc_df, x='LUNG_CANCER', kind='count')\n",
    "sns.set_style('white')\n",
    "plt.show();"
   ]
  },
  {
   "cell_type": "markdown",
   "id": "518ee93c",
   "metadata": {},
   "source": [
    "Observation: Our target set is not balanced. We will have to fix the imbalance after splitting our dataset."
   ]
  },
  {
   "cell_type": "code",
   "execution_count": null,
   "id": "e568b767",
   "metadata": {},
   "outputs": [],
   "source": []
  },
  {
   "cell_type": "markdown",
   "id": "e4c06cce",
   "metadata": {},
   "source": [
    "### Let's see if the risk of getting Lung_cancer is influnced by a patient's gender"
   ]
  },
  {
   "cell_type": "code",
   "execution_count": 47,
   "id": "e8bff0ec",
   "metadata": {},
   "outputs": [
    {
     "data": {
      "text/plain": [
       "array(['M', 'F'], dtype=object)"
      ]
     },
     "execution_count": 47,
     "metadata": {},
     "output_type": "execute_result"
    }
   ],
   "source": [
    "#let's identify visualize lung cancer across genders\n",
    "lc_df['GENDER'].unique()"
   ]
  },
  {
   "cell_type": "code",
   "execution_count": 48,
   "id": "9624f601",
   "metadata": {},
   "outputs": [
    {
     "data": {
      "text/plain": [
       "M    142\n",
       "F    134\n",
       "Name: GENDER, dtype: int64"
      ]
     },
     "execution_count": 48,
     "metadata": {},
     "output_type": "execute_result"
    }
   ],
   "source": [
    "lc_df['GENDER'].value_counts()"
   ]
  },
  {
   "cell_type": "code",
   "execution_count": 49,
   "id": "071c619c",
   "metadata": {},
   "outputs": [
    {
     "data": {
      "image/png": "[encoded data removed]",
      "text/plain": [
       "<Figure size 443.125x360 with 1 Axes>"
      ]
     },
     "metadata": {},
     "output_type": "display_data"
    }
   ],
   "source": [
    "sns.catplot(data=lc_df, x='GENDER', hue='LUNG_CANCER', kind='count')\n",
    "plt.title('GENDER vs LUNG_CANCER')\n",
    "plt.show();"
   ]
  },
  {
   "cell_type": "markdown",
   "id": "7762eb67",
   "metadata": {},
   "source": [
    "**Observation: From the graph above, we can say that gender has no serious correlation with Lung_cancer but might be influential in the presence of other factors**"
   ]
  },
  {
   "cell_type": "code",
   "execution_count": null,
   "id": "1bd3c50c",
   "metadata": {},
   "outputs": [],
   "source": []
  },
  {
   "cell_type": "markdown",
   "id": "22effb1b",
   "metadata": {},
   "source": [
    "### Let's see if alcohol consumption increases the risk of lung_cancer"
   ]
  },
  {
   "cell_type": "code",
   "execution_count": 50,
   "id": "46bf7faa",
   "metadata": {},
   "outputs": [
    {
     "data": {
      "text/plain": [
       "array([1, 0], dtype=int64)"
      ]
     },
     "execution_count": 50,
     "metadata": {},
     "output_type": "execute_result"
    }
   ],
   "source": [
    "lc_df['ALCOHOL CONSUMING'].unique()"
   ]
  },
  {
   "cell_type": "code",
   "execution_count": 51,
   "id": "cb4835fe",
   "metadata": {},
   "outputs": [
    {
     "data": {
      "text/plain": [
       "1    152\n",
       "0    124\n",
       "Name: ALCOHOL CONSUMING, dtype: int64"
      ]
     },
     "execution_count": 51,
     "metadata": {},
     "output_type": "execute_result"
    }
   ],
   "source": [
    "lc_df['ALCOHOL CONSUMING'].value_counts()"
   ]
  },
  {
   "cell_type": "code",
   "execution_count": 52,
   "id": "336f1060",
   "metadata": {
    "scrolled": true
   },
   "outputs": [
    {
     "data": {
      "text/html": [
       "<div>\n",
       "<style scoped>\n",
       "    .dataframe tbody tr th:only-of-type {\n",
       "        vertical-align: middle;\n",
       "    }\n",
       "\n",
       "    .dataframe tbody tr th {\n",
       "        vertical-align: top;\n",
       "    }\n",
       "\n",
       "    .dataframe thead th {\n",
       "        text-align: right;\n",
       "    }\n",
       "</style>\n",
       "<table border=\"1\" class=\"dataframe\">\n",
       "  <thead>\n",
       "    <tr style=\"text-align: right;\">\n",
       "      <th></th>\n",
       "      <th></th>\n",
       "      <th>Total</th>\n",
       "    </tr>\n",
       "    <tr>\n",
       "      <th>ALCOHOL CONSUMING</th>\n",
       "      <th>LUNG_CANCER</th>\n",
       "      <th></th>\n",
       "    </tr>\n",
       "  </thead>\n",
       "  <tbody>\n",
       "    <tr>\n",
       "      <th rowspan=\"2\" valign=\"top\">0</th>\n",
       "      <th>NO</th>\n",
       "      <td>31</td>\n",
       "    </tr>\n",
       "    <tr>\n",
       "      <th>YES</th>\n",
       "      <td>93</td>\n",
       "    </tr>\n",
       "    <tr>\n",
       "      <th rowspan=\"2\" valign=\"top\">1</th>\n",
       "      <th>NO</th>\n",
       "      <td>7</td>\n",
       "    </tr>\n",
       "    <tr>\n",
       "      <th>YES</th>\n",
       "      <td>145</td>\n",
       "    </tr>\n",
       "  </tbody>\n",
       "</table>\n",
       "</div>"
      ],
      "text/plain": [
       "                               Total\n",
       "ALCOHOL CONSUMING LUNG_CANCER       \n",
       "0                 NO              31\n",
       "                  YES             93\n",
       "1                 NO               7\n",
       "                  YES            145"
      ]
     },
     "execution_count": 52,
     "metadata": {},
     "output_type": "execute_result"
    }
   ],
   "source": [
    "#show the impact of alcohol consumption on lung_cancer in a table\n",
    "lc_df.groupby(['ALCOHOL CONSUMING', 'LUNG_CANCER']).agg(Total=('LUNG_CANCER', 'count'))"
   ]
  },
  {
   "cell_type": "code",
   "execution_count": 53,
   "id": "f65e60ae",
   "metadata": {},
   "outputs": [
    {
     "data": {
      "image/png": "[encoded data removed]",
      "text/plain": [
       "<Figure size 432x432 with 1 Axes>"
      ]
     },
     "metadata": {},
     "output_type": "display_data"
    }
   ],
   "source": [
    "#let's visualize the relationship\n",
    "plt.figure(figsize=(6,6))\n",
    "sns.countplot(data=lc_df, x='ALCOHOL CONSUMING', hue='LUNG_CANCER')\n",
    "plt.title('ALCOHOL CONSUMING vs LUNG_CANCER')\n",
    "plt.show();"
   ]
  },
  {
   "cell_type": "markdown",
   "id": "bd7fe90a",
   "metadata": {},
   "source": [
    "**Observation: From our graph above, alcohol consumption has a some level of observable influence on lung_cancer, however, it is possible that alcohol consumption together with other factors can directly result to lung_cancer**"
   ]
  },
  {
   "cell_type": "code",
   "execution_count": null,
   "id": "b27b47f5",
   "metadata": {},
   "outputs": [],
   "source": []
  },
  {
   "cell_type": "markdown",
   "id": "3481ff0d",
   "metadata": {},
   "source": [
    "### Let's analyse the relationship between age and lung_cancer:"
   ]
  },
  {
   "cell_type": "code",
   "execution_count": 54,
   "id": "ce35f6b4",
   "metadata": {},
   "outputs": [
    {
     "name": "stdout",
     "output_type": "stream",
     "text": [
      "Minimum Age: 21\n",
      "Maximum Age: 87\n",
      "Number of Age Variables: 39\n"
     ]
    }
   ],
   "source": [
    "print(f'Minimum Age: {lc_df[\"AGE\"].min()}')\n",
    "print(f'Maximum Age: {lc_df[\"AGE\"].max()}')\n",
    "print(f'Number of Age Variables: {lc_df[\"AGE\"].nunique()}')"
   ]
  },
  {
   "cell_type": "code",
   "execution_count": 55,
   "id": "d5f1d9ed",
   "metadata": {},
   "outputs": [
    {
     "data": {
      "text/plain": [
       "['70's', '80's', '60's', '50's', '20's', '40's']\n",
       "Categories (6, object): ['20's' < '40's' < '50's' < '60's' < '70's' < '80's']"
      ]
     },
     "execution_count": 55,
     "metadata": {},
     "output_type": "execute_result"
    }
   ],
   "source": [
    "#cut ages values into fewer categories\n",
    "ranges=[0, 21, 40, 50, 60, 70, 87]\n",
    "group_names = [\"20's\", \"40's\", \"50's\", \"60's\", \"70's\", \"80's\"]\n",
    "lc_df['AGE_GROUP'] = pd.cut(lc_df['AGE'], bins=ranges, labels=group_names)\n",
    "lc_df['AGE_GROUP'].unique()"
   ]
  },
  {
   "cell_type": "code",
   "execution_count": 56,
   "id": "2b332d3f",
   "metadata": {},
   "outputs": [
    {
     "data": {
      "text/html": [
       "<div>\n",
       "<style scoped>\n",
       "    .dataframe tbody tr th:only-of-type {\n",
       "        vertical-align: middle;\n",
       "    }\n",
       "\n",
       "    .dataframe tbody tr th {\n",
       "        vertical-align: top;\n",
       "    }\n",
       "\n",
       "    .dataframe thead th {\n",
       "        text-align: right;\n",
       "    }\n",
       "</style>\n",
       "<table border=\"1\" class=\"dataframe\">\n",
       "  <thead>\n",
       "    <tr style=\"text-align: right;\">\n",
       "      <th></th>\n",
       "      <th></th>\n",
       "      <th>Total</th>\n",
       "    </tr>\n",
       "    <tr>\n",
       "      <th>AGE_GROUP</th>\n",
       "      <th>LUNG_CANCER</th>\n",
       "      <th></th>\n",
       "    </tr>\n",
       "  </thead>\n",
       "  <tbody>\n",
       "    <tr>\n",
       "      <th rowspan=\"2\" valign=\"top\">20's</th>\n",
       "      <th>NO</th>\n",
       "      <td>1</td>\n",
       "    </tr>\n",
       "    <tr>\n",
       "      <th>YES</th>\n",
       "      <td>0</td>\n",
       "    </tr>\n",
       "    <tr>\n",
       "      <th rowspan=\"2\" valign=\"top\">40's</th>\n",
       "      <th>NO</th>\n",
       "      <td>0</td>\n",
       "    </tr>\n",
       "    <tr>\n",
       "      <th>YES</th>\n",
       "      <td>2</td>\n",
       "    </tr>\n",
       "    <tr>\n",
       "      <th rowspan=\"2\" valign=\"top\">50's</th>\n",
       "      <th>NO</th>\n",
       "      <td>2</td>\n",
       "    </tr>\n",
       "    <tr>\n",
       "      <th>YES</th>\n",
       "      <td>9</td>\n",
       "    </tr>\n",
       "    <tr>\n",
       "      <th rowspan=\"2\" valign=\"top\">60's</th>\n",
       "      <th>NO</th>\n",
       "      <td>16</td>\n",
       "    </tr>\n",
       "    <tr>\n",
       "      <th>YES</th>\n",
       "      <td>78</td>\n",
       "    </tr>\n",
       "    <tr>\n",
       "      <th rowspan=\"2\" valign=\"top\">70's</th>\n",
       "      <th>NO</th>\n",
       "      <td>17</td>\n",
       "    </tr>\n",
       "    <tr>\n",
       "      <th>YES</th>\n",
       "      <td>99</td>\n",
       "    </tr>\n",
       "    <tr>\n",
       "      <th rowspan=\"2\" valign=\"top\">80's</th>\n",
       "      <th>NO</th>\n",
       "      <td>2</td>\n",
       "    </tr>\n",
       "    <tr>\n",
       "      <th>YES</th>\n",
       "      <td>50</td>\n",
       "    </tr>\n",
       "  </tbody>\n",
       "</table>\n",
       "</div>"
      ],
      "text/plain": [
       "                       Total\n",
       "AGE_GROUP LUNG_CANCER       \n",
       "20's      NO               1\n",
       "          YES              0\n",
       "40's      NO               0\n",
       "          YES              2\n",
       "50's      NO               2\n",
       "          YES              9\n",
       "60's      NO              16\n",
       "          YES             78\n",
       "70's      NO              17\n",
       "          YES             99\n",
       "80's      NO               2\n",
       "          YES             50"
      ]
     },
     "execution_count": 56,
     "metadata": {},
     "output_type": "execute_result"
    }
   ],
   "source": [
    "#display lung_cancer distribution across age_groups\n",
    "lc_df.groupby(['AGE_GROUP', 'LUNG_CANCER']).agg(Total=('LUNG_CANCER', 'count'))"
   ]
  },
  {
   "cell_type": "code",
   "execution_count": 57,
   "id": "3202668f",
   "metadata": {},
   "outputs": [
    {
     "data": {
      "image/png": "[encoded data removed]",
      "text/plain": [
       "<Figure size 432x432 with 1 Axes>"
      ]
     },
     "metadata": {},
     "output_type": "display_data"
    }
   ],
   "source": [
    "#visualize the distribution across the age_groups\n",
    "plt.figure(figsize=(6,6))\n",
    "sns.countplot(data=lc_df, x='AGE_GROUP', hue='LUNG_CANCER')\n",
    "plt.xlabel('AGE_GROUP')\n",
    "plt.ylabel('COUNT')\n",
    "plt.title('Lung_Cancer Distribution Across Age-Groups')\n",
    "plt.show();"
   ]
  },
  {
   "cell_type": "markdown",
   "id": "9129a8ea",
   "metadata": {},
   "source": [
    "**Observation: From the data availabel in our dataset, the graph above suggests that lunger_cancer is mostly distributed across the age bracket between 60's and 70's but this is not sacrosanct as other factors may be at play here**"
   ]
  },
  {
   "cell_type": "code",
   "execution_count": null,
   "id": "01fe9b28",
   "metadata": {},
   "outputs": [],
   "source": []
  },
  {
   "cell_type": "markdown",
   "id": "42f97757",
   "metadata": {},
   "source": [
    "### Let's analyse the relationship between smoking and lunger cancer:"
   ]
  },
  {
   "cell_type": "code",
   "execution_count": 58,
   "id": "b15b01a8",
   "metadata": {},
   "outputs": [
    {
     "data": {
      "text/plain": [
       "array([0, 1], dtype=int64)"
      ]
     },
     "execution_count": 58,
     "metadata": {},
     "output_type": "execute_result"
    }
   ],
   "source": [
    "lc_df['SMOKING'].unique()"
   ]
  },
  {
   "cell_type": "code",
   "execution_count": 59,
   "id": "2c973719",
   "metadata": {},
   "outputs": [
    {
     "data": {
      "text/plain": [
       "1    150\n",
       "0    126\n",
       "Name: SMOKING, dtype: int64"
      ]
     },
     "execution_count": 59,
     "metadata": {},
     "output_type": "execute_result"
    }
   ],
   "source": [
    "lc_df['SMOKING'].value_counts()"
   ]
  },
  {
   "cell_type": "code",
   "execution_count": 60,
   "id": "5f0b688f",
   "metadata": {
    "scrolled": true
   },
   "outputs": [
    {
     "data": {
      "text/html": [
       "<div>\n",
       "<style scoped>\n",
       "    .dataframe tbody tr th:only-of-type {\n",
       "        vertical-align: middle;\n",
       "    }\n",
       "\n",
       "    .dataframe tbody tr th {\n",
       "        vertical-align: top;\n",
       "    }\n",
       "\n",
       "    .dataframe thead th {\n",
       "        text-align: right;\n",
       "    }\n",
       "</style>\n",
       "<table border=\"1\" class=\"dataframe\">\n",
       "  <thead>\n",
       "    <tr style=\"text-align: right;\">\n",
       "      <th></th>\n",
       "      <th></th>\n",
       "      <th>Total</th>\n",
       "    </tr>\n",
       "    <tr>\n",
       "      <th>SMOKING</th>\n",
       "      <th>LUNG_CANCER</th>\n",
       "      <th></th>\n",
       "    </tr>\n",
       "  </thead>\n",
       "  <tbody>\n",
       "    <tr>\n",
       "      <th rowspan=\"2\" valign=\"top\">0</th>\n",
       "      <th>NO</th>\n",
       "      <td>19</td>\n",
       "    </tr>\n",
       "    <tr>\n",
       "      <th>YES</th>\n",
       "      <td>107</td>\n",
       "    </tr>\n",
       "    <tr>\n",
       "      <th rowspan=\"2\" valign=\"top\">1</th>\n",
       "      <th>NO</th>\n",
       "      <td>19</td>\n",
       "    </tr>\n",
       "    <tr>\n",
       "      <th>YES</th>\n",
       "      <td>131</td>\n",
       "    </tr>\n",
       "  </tbody>\n",
       "</table>\n",
       "</div>"
      ],
      "text/plain": [
       "                     Total\n",
       "SMOKING LUNG_CANCER       \n",
       "0       NO              19\n",
       "        YES            107\n",
       "1       NO              19\n",
       "        YES            131"
      ]
     },
     "execution_count": 60,
     "metadata": {},
     "output_type": "execute_result"
    }
   ],
   "source": [
    "#display the impact of smoking on lung_cancer with a table\n",
    "lc_df.groupby(['SMOKING', 'LUNG_CANCER']).agg(Total=('LUNG_CANCER', 'count'))"
   ]
  },
  {
   "cell_type": "code",
   "execution_count": 61,
   "id": "efe2ffa4",
   "metadata": {},
   "outputs": [
    {
     "data": {
      "image/png": "[encoded data removed]",
      "text/plain": [
       "<Figure size 443.125x360 with 1 Axes>"
      ]
     },
     "metadata": {},
     "output_type": "display_data"
    }
   ],
   "source": [
    "#visualize the distribution\n",
    "sns.catplot(data=lc_df, x='SMOKING', hue='LUNG_CANCER', kind='count')\n",
    "plt.title('SOKING VS LUNG CANCER')\n",
    "plt.show()"
   ]
  },
  {
   "cell_type": "markdown",
   "id": "d9194ade",
   "metadata": {},
   "source": [
    "**Observation: From our graph above, smoking has a very minor influence on lung_cancer, although not very noticeable, however, it is very possible that smoking together with other factors can directly result to lung_cancer**"
   ]
  },
  {
   "cell_type": "code",
   "execution_count": null,
   "id": "db4b5186",
   "metadata": {},
   "outputs": [],
   "source": []
  },
  {
   "cell_type": "markdown",
   "id": "6ed07126",
   "metadata": {},
   "source": [
    "## Preprocessing"
   ]
  },
  {
   "cell_type": "code",
   "execution_count": 62,
   "id": "18cf2944",
   "metadata": {},
   "outputs": [
    {
     "name": "stdout",
     "output_type": "stream",
     "text": [
      "<class 'pandas.core.frame.DataFrame'>\n",
      "Int64Index: 276 entries, 0 to 283\n",
      "Data columns (total 17 columns):\n",
      " #   Column                 Non-Null Count  Dtype   \n",
      "---  ------                 --------------  -----   \n",
      " 0   GENDER                 276 non-null    object  \n",
      " 1   AGE                    276 non-null    int64   \n",
      " 2   SMOKING                276 non-null    int64   \n",
      " 3   YELLOW_FINGERS         276 non-null    int64   \n",
      " 4   ANXIETY                276 non-null    int64   \n",
      " 5   PEER_PRESSURE          276 non-null    int64   \n",
      " 6   CHRONIC DISEASE        276 non-null    int64   \n",
      " 7   FATIGUE                276 non-null    int64   \n",
      " 8   ALLERGY                276 non-null    int64   \n",
      " 9   WHEEZING               276 non-null    int64   \n",
      " 10  ALCOHOL CONSUMING      276 non-null    int64   \n",
      " 11  COUGHING               276 non-null    int64   \n",
      " 12  SHORTNESS OF BREATH    276 non-null    int64   \n",
      " 13  SWALLOWING DIFFICULTY  276 non-null    int64   \n",
      " 14  CHEST PAIN             276 non-null    int64   \n",
      " 15  LUNG_CANCER            276 non-null    object  \n",
      " 16  AGE_GROUP              276 non-null    category\n",
      "dtypes: category(1), int64(14), object(2)\n",
      "memory usage: 37.1+ KB\n"
     ]
    }
   ],
   "source": [
    "lc_df.info()"
   ]
  },
  {
   "cell_type": "markdown",
   "id": "acd596ae",
   "metadata": {},
   "source": [
    "#### Label Encoder:"
   ]
  },
  {
   "cell_type": "code",
   "execution_count": 63,
   "id": "0a9a6c89",
   "metadata": {},
   "outputs": [],
   "source": [
    "#instantiate LabelEncoder\n",
    "encoder = LabelEncoder()\n",
    "\n",
    "columns = ['GENDER', 'LUNG_CANCER', 'AGE_GROUP']\n",
    "\n",
    "for col in columns:\n",
    "    lc_df[col] = encoder.fit_transform(lc_df[col])"
   ]
  },
  {
   "cell_type": "code",
   "execution_count": 64,
   "id": "980954b5",
   "metadata": {},
   "outputs": [
    {
     "data": {
      "text/html": [
       "<div>\n",
       "<style scoped>\n",
       "    .dataframe tbody tr th:only-of-type {\n",
       "        vertical-align: middle;\n",
       "    }\n",
       "\n",
       "    .dataframe tbody tr th {\n",
       "        vertical-align: top;\n",
       "    }\n",
       "\n",
       "    .dataframe thead th {\n",
       "        text-align: right;\n",
       "    }\n",
       "</style>\n",
       "<table border=\"1\" class=\"dataframe\">\n",
       "  <thead>\n",
       "    <tr style=\"text-align: right;\">\n",
       "      <th></th>\n",
       "      <th>GENDER</th>\n",
       "      <th>AGE</th>\n",
       "      <th>SMOKING</th>\n",
       "      <th>YELLOW_FINGERS</th>\n",
       "      <th>ANXIETY</th>\n",
       "      <th>PEER_PRESSURE</th>\n",
       "      <th>CHRONIC DISEASE</th>\n",
       "      <th>FATIGUE</th>\n",
       "      <th>ALLERGY</th>\n",
       "      <th>WHEEZING</th>\n",
       "      <th>ALCOHOL CONSUMING</th>\n",
       "      <th>COUGHING</th>\n",
       "      <th>SHORTNESS OF BREATH</th>\n",
       "      <th>SWALLOWING DIFFICULTY</th>\n",
       "      <th>CHEST PAIN</th>\n",
       "      <th>LUNG_CANCER</th>\n",
       "      <th>AGE_GROUP</th>\n",
       "    </tr>\n",
       "  </thead>\n",
       "  <tbody>\n",
       "    <tr>\n",
       "      <th>0</th>\n",
       "      <td>1</td>\n",
       "      <td>69</td>\n",
       "      <td>0</td>\n",
       "      <td>1</td>\n",
       "      <td>1</td>\n",
       "      <td>0</td>\n",
       "      <td>0</td>\n",
       "      <td>1</td>\n",
       "      <td>0</td>\n",
       "      <td>1</td>\n",
       "      <td>1</td>\n",
       "      <td>1</td>\n",
       "      <td>1</td>\n",
       "      <td>1</td>\n",
       "      <td>1</td>\n",
       "      <td>1</td>\n",
       "      <td>4</td>\n",
       "    </tr>\n",
       "    <tr>\n",
       "      <th>1</th>\n",
       "      <td>1</td>\n",
       "      <td>74</td>\n",
       "      <td>1</td>\n",
       "      <td>0</td>\n",
       "      <td>0</td>\n",
       "      <td>0</td>\n",
       "      <td>1</td>\n",
       "      <td>1</td>\n",
       "      <td>1</td>\n",
       "      <td>0</td>\n",
       "      <td>0</td>\n",
       "      <td>0</td>\n",
       "      <td>1</td>\n",
       "      <td>1</td>\n",
       "      <td>1</td>\n",
       "      <td>1</td>\n",
       "      <td>5</td>\n",
       "    </tr>\n",
       "    <tr>\n",
       "      <th>2</th>\n",
       "      <td>0</td>\n",
       "      <td>59</td>\n",
       "      <td>0</td>\n",
       "      <td>0</td>\n",
       "      <td>0</td>\n",
       "      <td>1</td>\n",
       "      <td>0</td>\n",
       "      <td>1</td>\n",
       "      <td>0</td>\n",
       "      <td>1</td>\n",
       "      <td>0</td>\n",
       "      <td>1</td>\n",
       "      <td>1</td>\n",
       "      <td>0</td>\n",
       "      <td>1</td>\n",
       "      <td>0</td>\n",
       "      <td>3</td>\n",
       "    </tr>\n",
       "    <tr>\n",
       "      <th>3</th>\n",
       "      <td>1</td>\n",
       "      <td>63</td>\n",
       "      <td>1</td>\n",
       "      <td>1</td>\n",
       "      <td>1</td>\n",
       "      <td>0</td>\n",
       "      <td>0</td>\n",
       "      <td>0</td>\n",
       "      <td>0</td>\n",
       "      <td>0</td>\n",
       "      <td>1</td>\n",
       "      <td>0</td>\n",
       "      <td>0</td>\n",
       "      <td>1</td>\n",
       "      <td>1</td>\n",
       "      <td>0</td>\n",
       "      <td>4</td>\n",
       "    </tr>\n",
       "    <tr>\n",
       "      <th>4</th>\n",
       "      <td>0</td>\n",
       "      <td>63</td>\n",
       "      <td>0</td>\n",
       "      <td>1</td>\n",
       "      <td>0</td>\n",
       "      <td>0</td>\n",
       "      <td>0</td>\n",
       "      <td>0</td>\n",
       "      <td>0</td>\n",
       "      <td>1</td>\n",
       "      <td>0</td>\n",
       "      <td>1</td>\n",
       "      <td>1</td>\n",
       "      <td>0</td>\n",
       "      <td>0</td>\n",
       "      <td>0</td>\n",
       "      <td>4</td>\n",
       "    </tr>\n",
       "  </tbody>\n",
       "</table>\n",
       "</div>"
      ],
      "text/plain": [
       "   GENDER  AGE  SMOKING  YELLOW_FINGERS  ANXIETY  PEER_PRESSURE  \\\n",
       "0       1   69        0               1        1              0   \n",
       "1       1   74        1               0        0              0   \n",
       "2       0   59        0               0        0              1   \n",
       "3       1   63        1               1        1              0   \n",
       "4       0   63        0               1        0              0   \n",
       "\n",
       "   CHRONIC DISEASE  FATIGUE   ALLERGY   WHEEZING  ALCOHOL CONSUMING  COUGHING  \\\n",
       "0                0         1         0         1                  1         1   \n",
       "1                1         1         1         0                  0         0   \n",
       "2                0         1         0         1                  0         1   \n",
       "3                0         0         0         0                  1         0   \n",
       "4                0         0         0         1                  0         1   \n",
       "\n",
       "   SHORTNESS OF BREATH  SWALLOWING DIFFICULTY  CHEST PAIN  LUNG_CANCER  \\\n",
       "0                    1                      1           1            1   \n",
       "1                    1                      1           1            1   \n",
       "2                    1                      0           1            0   \n",
       "3                    0                      1           1            0   \n",
       "4                    1                      0           0            0   \n",
       "\n",
       "   AGE_GROUP  \n",
       "0          4  \n",
       "1          5  \n",
       "2          3  \n",
       "3          4  \n",
       "4          4  "
      ]
     },
     "execution_count": 64,
     "metadata": {},
     "output_type": "execute_result"
    }
   ],
   "source": [
    "lc_df.head()"
   ]
  },
  {
   "cell_type": "code",
   "execution_count": 65,
   "id": "c716e723",
   "metadata": {},
   "outputs": [
    {
     "data": {
      "text/html": [
       "<div>\n",
       "<style scoped>\n",
       "    .dataframe tbody tr th:only-of-type {\n",
       "        vertical-align: middle;\n",
       "    }\n",
       "\n",
       "    .dataframe tbody tr th {\n",
       "        vertical-align: top;\n",
       "    }\n",
       "\n",
       "    .dataframe thead th {\n",
       "        text-align: right;\n",
       "    }\n",
       "</style>\n",
       "<table border=\"1\" class=\"dataframe\">\n",
       "  <thead>\n",
       "    <tr style=\"text-align: right;\">\n",
       "      <th></th>\n",
       "      <th>GENDER</th>\n",
       "      <th>AGE</th>\n",
       "      <th>SMOKING</th>\n",
       "      <th>YELLOW_FINGERS</th>\n",
       "      <th>ANXIETY</th>\n",
       "      <th>PEER_PRESSURE</th>\n",
       "      <th>CHRONIC DISEASE</th>\n",
       "      <th>FATIGUE</th>\n",
       "      <th>ALLERGY</th>\n",
       "      <th>WHEEZING</th>\n",
       "      <th>ALCOHOL CONSUMING</th>\n",
       "      <th>COUGHING</th>\n",
       "      <th>SHORTNESS OF BREATH</th>\n",
       "      <th>SWALLOWING DIFFICULTY</th>\n",
       "      <th>CHEST PAIN</th>\n",
       "      <th>LUNG_CANCER</th>\n",
       "      <th>AGE_GROUP</th>\n",
       "    </tr>\n",
       "  </thead>\n",
       "  <tbody>\n",
       "    <tr>\n",
       "      <th>279</th>\n",
       "      <td>0</td>\n",
       "      <td>59</td>\n",
       "      <td>0</td>\n",
       "      <td>1</td>\n",
       "      <td>1</td>\n",
       "      <td>1</td>\n",
       "      <td>0</td>\n",
       "      <td>0</td>\n",
       "      <td>1</td>\n",
       "      <td>1</td>\n",
       "      <td>0</td>\n",
       "      <td>1</td>\n",
       "      <td>0</td>\n",
       "      <td>1</td>\n",
       "      <td>0</td>\n",
       "      <td>1</td>\n",
       "      <td>3</td>\n",
       "    </tr>\n",
       "    <tr>\n",
       "      <th>280</th>\n",
       "      <td>0</td>\n",
       "      <td>59</td>\n",
       "      <td>1</td>\n",
       "      <td>0</td>\n",
       "      <td>0</td>\n",
       "      <td>0</td>\n",
       "      <td>1</td>\n",
       "      <td>1</td>\n",
       "      <td>1</td>\n",
       "      <td>0</td>\n",
       "      <td>0</td>\n",
       "      <td>0</td>\n",
       "      <td>1</td>\n",
       "      <td>0</td>\n",
       "      <td>0</td>\n",
       "      <td>0</td>\n",
       "      <td>3</td>\n",
       "    </tr>\n",
       "    <tr>\n",
       "      <th>281</th>\n",
       "      <td>1</td>\n",
       "      <td>55</td>\n",
       "      <td>1</td>\n",
       "      <td>0</td>\n",
       "      <td>0</td>\n",
       "      <td>0</td>\n",
       "      <td>0</td>\n",
       "      <td>1</td>\n",
       "      <td>1</td>\n",
       "      <td>0</td>\n",
       "      <td>0</td>\n",
       "      <td>0</td>\n",
       "      <td>1</td>\n",
       "      <td>0</td>\n",
       "      <td>1</td>\n",
       "      <td>0</td>\n",
       "      <td>3</td>\n",
       "    </tr>\n",
       "    <tr>\n",
       "      <th>282</th>\n",
       "      <td>1</td>\n",
       "      <td>46</td>\n",
       "      <td>0</td>\n",
       "      <td>1</td>\n",
       "      <td>1</td>\n",
       "      <td>0</td>\n",
       "      <td>0</td>\n",
       "      <td>0</td>\n",
       "      <td>0</td>\n",
       "      <td>0</td>\n",
       "      <td>0</td>\n",
       "      <td>0</td>\n",
       "      <td>0</td>\n",
       "      <td>1</td>\n",
       "      <td>1</td>\n",
       "      <td>0</td>\n",
       "      <td>2</td>\n",
       "    </tr>\n",
       "    <tr>\n",
       "      <th>283</th>\n",
       "      <td>1</td>\n",
       "      <td>60</td>\n",
       "      <td>0</td>\n",
       "      <td>1</td>\n",
       "      <td>1</td>\n",
       "      <td>0</td>\n",
       "      <td>0</td>\n",
       "      <td>1</td>\n",
       "      <td>0</td>\n",
       "      <td>1</td>\n",
       "      <td>1</td>\n",
       "      <td>1</td>\n",
       "      <td>1</td>\n",
       "      <td>1</td>\n",
       "      <td>1</td>\n",
       "      <td>1</td>\n",
       "      <td>3</td>\n",
       "    </tr>\n",
       "  </tbody>\n",
       "</table>\n",
       "</div>"
      ],
      "text/plain": [
       "     GENDER  AGE  SMOKING  YELLOW_FINGERS  ANXIETY  PEER_PRESSURE  \\\n",
       "279       0   59        0               1        1              1   \n",
       "280       0   59        1               0        0              0   \n",
       "281       1   55        1               0        0              0   \n",
       "282       1   46        0               1        1              0   \n",
       "283       1   60        0               1        1              0   \n",
       "\n",
       "     CHRONIC DISEASE  FATIGUE   ALLERGY   WHEEZING  ALCOHOL CONSUMING  \\\n",
       "279                0         0         1         1                  0   \n",
       "280                1         1         1         0                  0   \n",
       "281                0         1         1         0                  0   \n",
       "282                0         0         0         0                  0   \n",
       "283                0         1         0         1                  1   \n",
       "\n",
       "     COUGHING  SHORTNESS OF BREATH  SWALLOWING DIFFICULTY  CHEST PAIN  \\\n",
       "279         1                    0                      1           0   \n",
       "280         0                    1                      0           0   \n",
       "281         0                    1                      0           1   \n",
       "282         0                    0                      1           1   \n",
       "283         1                    1                      1           1   \n",
       "\n",
       "     LUNG_CANCER  AGE_GROUP  \n",
       "279            1          3  \n",
       "280            0          3  \n",
       "281            0          3  \n",
       "282            0          2  \n",
       "283            1          3  "
      ]
     },
     "execution_count": 65,
     "metadata": {},
     "output_type": "execute_result"
    }
   ],
   "source": [
    "lc_df.tail()"
   ]
  },
  {
   "cell_type": "code",
   "execution_count": null,
   "id": "fddfe6d3",
   "metadata": {},
   "outputs": [],
   "source": []
  },
  {
   "cell_type": "code",
   "execution_count": 66,
   "id": "ce3cfe1e",
   "metadata": {},
   "outputs": [
    {
     "data": {
      "image/png": "[encoded data removed]",
      "text/plain": [
       "<Figure size 864x864 with 20 Axes>"
      ]
     },
     "metadata": {},
     "output_type": "display_data"
    }
   ],
   "source": [
    "lc_df.hist();"
   ]
  },
  {
   "cell_type": "code",
   "execution_count": null,
   "id": "b0a6d698",
   "metadata": {},
   "outputs": [],
   "source": []
  },
  {
   "cell_type": "markdown",
   "id": "e16d2f9a",
   "metadata": {},
   "source": [
    "## Building of The Model"
   ]
  },
  {
   "cell_type": "code",
   "execution_count": 67,
   "id": "be4a49e8",
   "metadata": {},
   "outputs": [
    {
     "data": {
      "text/plain": [
       "(276, 16)"
      ]
     },
     "execution_count": 67,
     "metadata": {},
     "output_type": "execute_result"
    }
   ],
   "source": [
    "#create the feature variable\n",
    "X = lc_df.drop('LUNG_CANCER', axis=1)\n",
    "X.shape"
   ]
  },
  {
   "cell_type": "code",
   "execution_count": 68,
   "id": "514c04c3",
   "metadata": {},
   "outputs": [
    {
     "data": {
      "text/plain": [
       "(276,)"
      ]
     },
     "execution_count": 68,
     "metadata": {},
     "output_type": "execute_result"
    }
   ],
   "source": [
    "#create target variable\n",
    "y = lc_df['LUNG_CANCER']\n",
    "y.shape"
   ]
  },
  {
   "cell_type": "code",
   "execution_count": null,
   "id": "3e084629",
   "metadata": {},
   "outputs": [],
   "source": []
  },
  {
   "cell_type": "markdown",
   "id": "0408d11b",
   "metadata": {},
   "source": [
    "### Partitioning:"
   ]
  },
  {
   "cell_type": "code",
   "execution_count": 69,
   "id": "5be9c0b5",
   "metadata": {},
   "outputs": [],
   "source": [
    "#let's set a seed\n",
    "SEED = 1"
   ]
  },
  {
   "cell_type": "code",
   "execution_count": 70,
   "id": "6a04ccbd",
   "metadata": {},
   "outputs": [],
   "source": [
    "#let's partition our dataset into 80% train, and 30% test\n",
    "X_train, X_test, y_train, y_test = train_test_split(X,y, test_size=0.3, random_state=SEED)"
   ]
  },
  {
   "cell_type": "code",
   "execution_count": 71,
   "id": "c5867d55",
   "metadata": {},
   "outputs": [
    {
     "data": {
      "text/plain": [
       "1    167\n",
       "0     26\n",
       "Name: LUNG_CANCER, dtype: int64"
      ]
     },
     "execution_count": 71,
     "metadata": {},
     "output_type": "execute_result"
    }
   ],
   "source": [
    "y_train.value_counts()"
   ]
  },
  {
   "cell_type": "code",
   "execution_count": 92,
   "id": "5c6a6e5f",
   "metadata": {},
   "outputs": [
    {
     "data": {
      "image/png": "[encoded data removed]",
      "text/plain": [
       "<Figure size 360x360 with 1 Axes>"
      ]
     },
     "metadata": {},
     "output_type": "display_data"
    }
   ],
   "source": [
    "#visualize the imbalance in the train set\n",
    "labels = ['Lung Cancer', 'Normal']\n",
    "plt.figure(figsize=(5,5))\n",
    "plt.pie(y_train.value_counts(), autopct='%.2f', labels=labels)\n",
    "plt.title('Imbalanced Train Set', fontsize=16)\n",
    "plt.show();"
   ]
  },
  {
   "cell_type": "markdown",
   "id": "7f218a3c",
   "metadata": {},
   "source": [
    "Observation: Our train set is clearly not balanced, and we need to resample it to be able to balance it."
   ]
  },
  {
   "cell_type": "markdown",
   "id": "50f09da4",
   "metadata": {},
   "source": [
    "### Resampling"
   ]
  },
  {
   "cell_type": "code",
   "execution_count": 76,
   "id": "34ce49fe",
   "metadata": {},
   "outputs": [
    {
     "data": {
      "text/plain": [
       "0    26\n",
       "1    26\n",
       "Name: LUNG_CANCER, dtype: int64"
      ]
     },
     "execution_count": 76,
     "metadata": {},
     "output_type": "execute_result"
    }
   ],
   "source": [
    "#instantiate and employ RandomUnderSampler to correct the imbalance\n",
    "rus = RandomUnderSampler(sampling_strategy=1)\n",
    "rus_X_train, rus_y_train = rus.fit_resample(X_train, y_train)\n",
    "rus_y_train.value_counts()"
   ]
  },
  {
   "cell_type": "code",
   "execution_count": 77,
   "id": "0e220e9c",
   "metadata": {},
   "outputs": [
    {
     "data": {
      "image/png": "[encoded data removed]",
      "text/plain": [
       "<Figure size 360x360 with 1 Axes>"
      ]
     },
     "metadata": {},
     "output_type": "display_data"
    }
   ],
   "source": [
    "#visualize the resampled train set\n",
    "labels = ['Lung Cancer', 'Normal']\n",
    "plt.figure(figsize=(5,5))\n",
    "plt.pie(rus_y_train.value_counts(), autopct='%.2f', labels=labels)\n",
    "plt.title('Resampled Train Set')\n",
    "plt.show();"
   ]
  },
  {
   "cell_type": "markdown",
   "id": "120b5abd",
   "metadata": {},
   "source": [
    "Observation: Our train set is now balanced"
   ]
  },
  {
   "cell_type": "code",
   "execution_count": null,
   "id": "b1fa7afd",
   "metadata": {},
   "outputs": [],
   "source": []
  },
  {
   "cell_type": "markdown",
   "id": "a2a91a2a",
   "metadata": {},
   "source": [
    "### Hyperparameter Tuning For Our Classification Algorithms"
   ]
  },
  {
   "cell_type": "code",
   "execution_count": 83,
   "id": "b77b7fc8",
   "metadata": {},
   "outputs": [
    {
     "name": "stdout",
     "output_type": "stream",
     "text": [
      "{'C': 1.0, 'penalty': 'l2', 'solver': 'newton-cg'}\n"
     ]
    }
   ],
   "source": [
    "#hyperparameter tuning for logistic regression\n",
    "lr = LogisticRegression(random_state=SEED)\n",
    "param_grid={\n",
    "    'C': [0.01, 0.1, 1.0, 10, 100],\n",
    "    'penalty': ['none', 'l1', 'l2', 'elasticnet'],\n",
    "    'solver': ['newton-cg', 'lbfgs', 'liblinear', 'sag', 'saga']\n",
    "}\n",
    "\n",
    "#perform grid search with cross-validation to obtain the best hyperparameters\n",
    "grid_search = GridSearchCV(lr, param_grid, cv=5)\n",
    "grid_search.fit(rus_X_train, rus_y_train)\n",
    "\n",
    "#print the best hyperparameters\n",
    "print(grid_search.best_params_)"
   ]
  },
  {
   "cell_type": "code",
   "execution_count": null,
   "id": "fb87fcc6",
   "metadata": {},
   "outputs": [],
   "source": []
  },
  {
   "cell_type": "code",
   "execution_count": 88,
   "id": "8d61d38e",
   "metadata": {},
   "outputs": [
    {
     "name": "stdout",
     "output_type": "stream",
     "text": [
      "{'leaf_size': 1, 'n_neighbors': 5, 'p': 1}\n"
     ]
    }
   ],
   "source": [
    "#hyperparameter tuning for KNN\n",
    "knn = KNN()\n",
    "param_grid={\n",
    "    'leaf_size': list(range(1, 20)),\n",
    "    'n_neighbors': list(range(1, 10)),\n",
    "    'p': [1, 2]\n",
    "}\n",
    "\n",
    "#perform grid search with cross-validation to obtain the best hyperparameters\n",
    "grid_search = GridSearchCV(knn, param_grid, cv=5)\n",
    "grid_search.fit(rus_X_train, rus_y_train)\n",
    "\n",
    "#print the best hyperparameters\n",
    "print(grid_search.best_params_)"
   ]
  },
  {
   "cell_type": "code",
   "execution_count": null,
   "id": "e231193f",
   "metadata": {},
   "outputs": [],
   "source": []
  },
  {
   "cell_type": "code",
   "execution_count": 94,
   "id": "3c017183",
   "metadata": {},
   "outputs": [
    {
     "name": "stdout",
     "output_type": "stream",
     "text": [
      "{'max_depth': 3, 'min_samples_leaf': 4, 'min_samples_split': 2}\n"
     ]
    }
   ],
   "source": [
    "#hyperparameter tuning for Decision Tree\n",
    "dt = DecisionTreeClassifier(random_state=SEED)\n",
    "param_grid = {\n",
    "    'max_depth': [3,4,5,6,7,8],\n",
    "    'min_samples_split': [2,3,4],\n",
    "    'min_samples_leaf': [1,2,3,4]\n",
    "}\n",
    "\n",
    "#perform grid search with cross-validation to obtain the best hyperparameters\n",
    "grid_search = GridSearchCV(dt, param_grid, cv=5)\n",
    "grid_search.fit(rus_X_train, rus_y_train)\n",
    "\n",
    "#print the best hyperparameters\n",
    "print(grid_search.best_params_)"
   ]
  },
  {
   "cell_type": "code",
   "execution_count": null,
   "id": "63f62679",
   "metadata": {},
   "outputs": [],
   "source": []
  },
  {
   "cell_type": "markdown",
   "id": "76660d16",
   "metadata": {},
   "source": [
    "### Employing The Classification Algorithms(Logistic Regression, K-Nearest Neighbor, And Decision Tree Claassifier)"
   ]
  },
  {
   "cell_type": "code",
   "execution_count": 95,
   "id": "830463b3",
   "metadata": {},
   "outputs": [],
   "source": [
    "#instantiate the individual classifiers\n",
    "lr = LogisticRegression(random_state=SEED, C=1.0, penalty='l2', solver='newton-cg')\n",
    "knn = KNN(leaf_size=1, n_neighbors=5, p=1)\n",
    "dt = DecisionTreeClassifier(random_state=SEED, max_depth=3, min_samples_leaf=4, min_samples_split=2)"
   ]
  },
  {
   "cell_type": "code",
   "execution_count": 96,
   "id": "9f45699e",
   "metadata": {},
   "outputs": [],
   "source": [
    "#Define a list called classifier that contains the tuples(classifier_name, classifier)\n",
    "classifiers = [\n",
    "    ('Logistic Regression', lr),\n",
    "    ('K-Nearest Neighbor', knn),\n",
    "    ('Decision Tree Claassifier', dt)\n",
    "    \n",
    "]"
   ]
  },
  {
   "cell_type": "code",
   "execution_count": 97,
   "id": "e9a3f7d7",
   "metadata": {},
   "outputs": [
    {
     "name": "stdout",
     "output_type": "stream",
     "text": [
      "Logistic Regression:0.819\n",
      "K-Nearest Neighbor:0.687\n",
      "Decision Tree Claassifier:0.639\n"
     ]
    }
   ],
   "source": [
    "#iterate over classifiers, a list of tuple containing the classification algorithms\n",
    "for clf_name, clf in classifiers:\n",
    "    #fit the classifier to the training set\n",
    "    clf.fit(rus_X_train, rus_y_train)\n",
    "    \n",
    "    #predict the labels of the test set\n",
    "    y_pred = clf.predict(X_test)\n",
    "    \n",
    "    #evaluate the accuracy of classifiers on test set\n",
    "    print('{:s}:{:.3f}'.format(clf_name, accuracy_score( y_test, y_pred)))\n",
    "    "
   ]
  },
  {
   "cell_type": "markdown",
   "id": "d3ae0d16",
   "metadata": {},
   "source": [
    "**Observation: Logistic Regression with an accuracy of 81.9% performed better than K-Nearest Neighbor and Decision Tree Claassifier with accuracy of 68.7% and 63.9% respectively**"
   ]
  },
  {
   "cell_type": "code",
   "execution_count": null,
   "id": "0f59a350",
   "metadata": {},
   "outputs": [],
   "source": []
  },
  {
   "cell_type": "markdown",
   "id": "ec13cb6f",
   "metadata": {},
   "source": [
    "### Employing Voting Classifier"
   ]
  },
  {
   "cell_type": "code",
   "execution_count": 135,
   "id": "2d2365c5",
   "metadata": {},
   "outputs": [
    {
     "name": "stdout",
     "output_type": "stream",
     "text": [
      "{'voting': 'hard', 'weights': (2, 1, 1)}\n"
     ]
    }
   ],
   "source": [
    "#hyperparameter tuning for voting classifier\n",
    "vc = VotingClassifier(estimators=classifiers)\n",
    "param_grid={\n",
    "    'voting': ['hard', 'soft'],\n",
    "    'weights': [(1,1,1), (2,1,1), (1,2,1), (1,1,2)]\n",
    "}\n",
    "#perform grid search with cross-validation to get the best hyperparameters \n",
    "grid = GridSearchCV(vc, param_grid, cv=5)\n",
    "grid.fit(X_train, y_train)\n",
    "\n",
    "#print the best hyperparameters\n",
    "print(grid.best_params_)"
   ]
  },
  {
   "cell_type": "code",
   "execution_count": 136,
   "id": "8a33525b",
   "metadata": {},
   "outputs": [],
   "source": [
    "#instantiate VotingClassifier 'vc'\n",
    "vc = VotingClassifier(estimators=classifiers, voting='hard', weights=(2, 1, 1))"
   ]
  },
  {
   "cell_type": "code",
   "execution_count": 137,
   "id": "9aa9c8be",
   "metadata": {},
   "outputs": [
    {
     "data": {
      "text/plain": [
       "array([1, 1, 1, 1, 1, 1, 1, 0, 1, 1, 0, 1, 1, 1, 1, 1, 1, 0, 0, 1, 0, 0,\n",
       "       1, 1, 1, 1, 1, 1, 1, 0, 1, 1, 1, 1, 1, 1, 1, 1, 1, 1, 1, 1, 1, 0,\n",
       "       1, 1, 1, 1, 1, 1, 1, 1, 1, 1, 0, 1, 1, 1, 1, 0, 1, 1, 1, 1, 1, 1,\n",
       "       1, 1, 1, 1, 1, 1, 1, 1, 1, 1, 1, 1, 1, 1, 0, 1, 1])"
      ]
     },
     "execution_count": 137,
     "metadata": {},
     "output_type": "execute_result"
    }
   ],
   "source": [
    "#fit 'vc' to the training set and predict the test labels\n",
    "vc.fit(X_train, y_train)\n",
    "y_pred = vc.predict(X_test)\n",
    "y_pred"
   ]
  },
  {
   "cell_type": "code",
   "execution_count": 139,
   "id": "3ae53d0b",
   "metadata": {},
   "outputs": [
    {
     "name": "stdout",
     "output_type": "stream",
     "text": [
      "Voting Classifier:0.867\n"
     ]
    }
   ],
   "source": [
    "#evaluate the accuracy of 'vc' on test set\"\n",
    "print('Voting Classifier:{:.3}'.format(accuracy_score(y_test, y_pred)))"
   ]
  },
  {
   "cell_type": "markdown",
   "id": "a846c291",
   "metadata": {},
   "source": [
    "### Conclusion: Voting Classifier, vc, with an accuracy score of approximately 86.7% turns out to be a better model having performed better than the individual classifiers by the virtue of the combination of these individual classifiers, thus, having them compliment each other."
   ]
  },
  {
   "cell_type": "code",
   "execution_count": null,
   "id": "a577b463",
   "metadata": {},
   "outputs": [],
   "source": []
  }
 ],
 "metadata": {
  "kernelspec": {
   "display_name": "Python 3 (ipykernel)",
   "language": "python",
   "name": "python3"
  },
  "language_info": {
   "codemirror_mode": {
    "name": "ipython",
    "version": 3
   },
   "file_extension": ".py",
   "mimetype": "text/x-python",
   "name": "python",
   "nbconvert_exporter": "python",
   "pygments_lexer": "ipython3",
   "version": "3.9.12"
  }
 },
 "nbformat": 4,
 "nbformat_minor": 5
}
